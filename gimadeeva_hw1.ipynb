{
 "cells": [
  {
   "cell_type": "markdown",
   "metadata": {},
   "source": [
    "**Общая информация**\n",
    "\n",
    "**Срок сдачи:** 18 октября 2017, 06:00 <br\\>\n",
    "**Штраф за опоздание:** -2 балла после 06:00 18 октября, -4 балла после 06:00 25 октября, -6 баллов после 06:00 1 ноября\n",
    "\n",
    "При отправлении ДЗ указывайте фамилию в названии файла\n",
    "Присылать ДЗ необходимо в виде ссылки на свой github репозиторий в slack @alkhamush\n",
    "\n",
    "Необходимо в slack создать таск в приватный чат:\n",
    "/todo Фамилия Имя ссылка на гитхаб @alkhamush\n",
    "Пример:\n",
    "/todo Ксения Стройкова https://github.com/stroykova/spheremailru/stroykova_hw1.ipynb @alkhamush\n",
    "Дополнительно нужно просто скинуть ссылку в slack в личный чат\n",
    "\n",
    "Используйте данный Ipython Notebook при оформлении домашнего задания."
   ]
  },
  {
   "cell_type": "markdown",
   "metadata": {},
   "source": [
    "###### Задание 1 (2 баллов)\n",
    "Реализовать KNN в классе MyKNeighborsClassifier (обязательное условие: точность не ниже sklearn реализации)\n",
    "Разберитесь самостоятельно, какая мера расстояния используется в KNeighborsClassifier дефолтно и реализуйте свой алгоритм именно с этой мерой. Самостоятельно разберитесь, как считается score из KNeighborsClassifier и реализуйте аналог в своём классе. Score не должен уступать значению KNN из sklearn\n",
    "\n",
    "###### Задание 2 (2 балла)\n",
    "Добиться скорости работы на fit,  predict и predict_proba сравнимой со sklearn для iris и mnist\n",
    "Для этого используем numpy\n",
    "\n",
    "###### Задание 3 (2 балла)\n",
    "Для iris найдите такой параметр n_neighbors, при котором выдаётся наилучший score. Нарисуйте график зависимости score от n_neighbors\n",
    "\n",
    "###### Задание 4 (3 балла)\n",
    "Добавить algorithm='kd_tree' в реализацию KNN (использовать KDTree из sklearn.neighbors). Значение n_neighbors нужно взять из задания 3. Добиться скорости работы на fit,  predict и predict_proba сравнимой со sklearn для iris и mnist\n",
    "Для этого используем numpy. Score не должен уступать значению KNN из sklearn\n",
    "\n",
    "###### Задание 5 (1 балла)\n",
    "Описать для чего нужны следующие библиотеки/классы/функции (список будет ниже)\n",
    "\n",
    "**Штрафные баллы:**\n",
    "\n",
    "1. Невыполнение PEP8 -1 балл\n",
    "2. Отсутствие фамилии в имени скрипта (скрипт должен называться по аналогии со stroykova_hw1.ipynb) -1 балл\n",
    "3. Все строчки должны быть выполнены. Нужно, чтобы output команды можно было увидеть уже в git'е. В противном случае -1 балл\n",
    "4. При оформлении ДЗ нужно пользоваться данным файлом в качестве шаблона. Не нужно удалять и видоизменять структуру кода и текст. В противном случае -1 балл\n"
   ]
  },
  {
   "cell_type": "code",
   "execution_count": 1,
   "metadata": {},
   "outputs": [],
   "source": [
    "import numpy as np\n",
    "import matplotlib.pyplot as plt\n",
    "\n",
    "import seaborn as sns\n",
    "from sklearn import datasets\n",
    "from sklearn.base import ClassifierMixin\n",
    "from sklearn.datasets import fetch_mldata\n",
    "from sklearn.neighbors.base import NeighborsBase, KNeighborsMixin, SupervisedIntegerMixin \n",
    "from sklearn.model_selection import train_test_split\n",
    "from sklearn.neighbors import KNeighborsClassifier, KDTree\n",
    "%load_ext pycodestyle_magic"
   ]
  },
  {
   "cell_type": "markdown",
   "metadata": {},
   "source": [
    "**IRIS**"
   ]
  },
  {
   "cell_type": "code",
   "execution_count": 2,
   "metadata": {},
   "outputs": [],
   "source": [
    "#%%pycodestyle\n",
    "\n",
    "class MyKNeighborsClassifier(NeighborsBase, KNeighborsMixin, SupervisedIntegerMixin, ClassifierMixin):\n",
    "    \n",
    "    def __init__(self, n_neighbors, algorithm='brute'):\n",
    "        self.n_neighbors = n_neighbors\n",
    "        self.algorithm = algorithm\n",
    "    \n",
    "    def fit(self, X, y): #Fit the model using X as training data and y as target values%%pycodestyle\n",
    "            self.X_train = np.array(X).astype(float)\n",
    "            self.y_train = np.array(y)            \n",
    "            self.quantity_of_classes = len(np.unique(self.y_train))\n",
    "            if (self.algorithm == 'kd_tree') :\n",
    "                self.tree = KDTree(self.X_train)         \n",
    "  \n",
    "    def y_near_neighbors(self,X) :\n",
    "        if (self.algorithm == 'brute') :         \n",
    "            #dist=[[ np.linalg.norm(q-X[i]) for q in np.copy(self.X_train) ] for i in range(len(X))]\n",
    "            #from scipy \n",
    "            #dist = scipy.spatial.distance.cdist(X, X_train,'minkowski', p=2)\n",
    "            \n",
    "            X = X.astype(float)\n",
    "            X_train_squared = np.sum(self.X_train**2, axis=1).reshape(1, -1)\n",
    "            X_test_squared = np.sum(X**2, axis=1).reshape(-1, 1)\n",
    "            dist = np.sqrt( \n",
    "                            X_test_squared-2*np.matmul(X, self.X_train.T)+X_train_squared\n",
    "                            )\n",
    "            \n",
    "            idx=np.argpartition(\n",
    "                                dist, self.n_neighbors\n",
    "                                )[:, :self.n_neighbors]\n",
    "            \n",
    "        if (self.algorithm == 'kd_tree') :   \n",
    "            dist,idx = self.tree.query(X, k=self.n_neighbors)\n",
    "        \n",
    "        return self.y_train[idx].astype('int64')\n",
    "    \n",
    "    def predict(self, X): #Predict the class labels for the provided data\n",
    "        y_of_near_neighbors = self.y_near_neighbors(X)\n",
    "        return np.apply_along_axis(\n",
    "                                    lambda x: np.bincount(x).argmax(), 1, y_of_near_neighbors\n",
    "                                    )\n",
    "        \n",
    "    def count_y(self, x) :\n",
    "        from collections import Counter\n",
    "        res = []\n",
    "        r = Counter(x)\n",
    "        for i in range(self.quantity_of_classes) :\n",
    "            res.append(r[i])\n",
    "        res = np.array(res)\n",
    "        return res\n",
    "        #если использование Counter было запрещено то вариант ниже\n",
    "        #return ( np.unique(np.concatenate((np.arange(self.quantity_of_classes), x)), return_counts=True )[1] - 1) \n",
    "        \n",
    "    def predict_proba(self, X): #Return probability estimates for the test data X.\n",
    "        return np.apply_along_axis(\n",
    "                                    lambda x: self.count_y(x)/self.n_neighbors, 1, self.y_near_neighbors(X)\n",
    "                                    )        \n",
    "    \n",
    "    def score(self, X, y): #Returns the mean accuracy on the given test data and labels.    \n",
    "        sum = 0\n",
    "        for i in (y == self.predict(X) ) :\n",
    "            sum+=i\n",
    "        return sum/len(y)"
   ]
  },
  {
   "cell_type": "code",
   "execution_count": 3,
   "metadata": {},
   "outputs": [],
   "source": [
    "iris = datasets.load_iris()"
   ]
  },
  {
   "cell_type": "code",
   "execution_count": 4,
   "metadata": {},
   "outputs": [],
   "source": [
    "X_train, X_test, y_train, y_test = train_test_split(iris.data, iris.target, test_size=0.1, stratify=iris.target)"
   ]
  },
  {
   "cell_type": "code",
   "execution_count": 5,
   "metadata": {},
   "outputs": [],
   "source": [
    "clf = KNeighborsClassifier(n_neighbors=2)\n",
    "my_clf = MyKNeighborsClassifier(n_neighbors=2)"
   ]
  },
  {
   "cell_type": "code",
   "execution_count": 6,
   "metadata": {},
   "outputs": [
    {
     "name": "stdout",
     "output_type": "stream",
     "text": [
      "CPU times: user 4 ms, sys: 0 ns, total: 4 ms\n",
      "Wall time: 8.93 ms\n"
     ]
    },
    {
     "data": {
      "text/plain": [
       "KNeighborsClassifier(algorithm='auto', leaf_size=30, metric='minkowski',\n",
       "           metric_params=None, n_jobs=1, n_neighbors=2, p=2,\n",
       "           weights='uniform')"
      ]
     },
     "execution_count": 6,
     "metadata": {},
     "output_type": "execute_result"
    }
   ],
   "source": [
    "%time clf.fit(X_train, y_train)"
   ]
  },
  {
   "cell_type": "code",
   "execution_count": 7,
   "metadata": {},
   "outputs": [
    {
     "name": "stdout",
     "output_type": "stream",
     "text": [
      "CPU times: user 0 ns, sys: 0 ns, total: 0 ns\n",
      "Wall time: 778 µs\n"
     ]
    }
   ],
   "source": [
    "%time my_clf.fit(X_train, y_train)"
   ]
  },
  {
   "cell_type": "code",
   "execution_count": 8,
   "metadata": {},
   "outputs": [
    {
     "name": "stdout",
     "output_type": "stream",
     "text": [
      "CPU times: user 4 ms, sys: 0 ns, total: 4 ms\n",
      "Wall time: 7.44 ms\n"
     ]
    },
    {
     "data": {
      "text/plain": [
       "array([0, 1, 0, 0, 1, 2, 2, 2, 0, 2, 1, 1, 1, 0, 1])"
      ]
     },
     "execution_count": 8,
     "metadata": {},
     "output_type": "execute_result"
    }
   ],
   "source": [
    "%time clf.predict(X_test)"
   ]
  },
  {
   "cell_type": "code",
   "execution_count": 9,
   "metadata": {},
   "outputs": [
    {
     "name": "stdout",
     "output_type": "stream",
     "text": [
      "CPU times: user 8 ms, sys: 4 ms, total: 12 ms\n",
      "Wall time: 383 ms\n"
     ]
    },
    {
     "data": {
      "text/plain": [
       "array([0, 1, 0, 0, 1, 2, 2, 2, 0, 2, 1, 1, 1, 0, 1])"
      ]
     },
     "execution_count": 9,
     "metadata": {},
     "output_type": "execute_result"
    }
   ],
   "source": [
    "%time my_clf.predict(X_test)"
   ]
  },
  {
   "cell_type": "code",
   "execution_count": 10,
   "metadata": {},
   "outputs": [
    {
     "name": "stdout",
     "output_type": "stream",
     "text": [
      "CPU times: user 0 ns, sys: 0 ns, total: 0 ns\n",
      "Wall time: 6.75 ms\n"
     ]
    },
    {
     "data": {
      "text/plain": [
       "array([[1. , 0. , 0. ],\n",
       "       [0. , 1. , 0. ],\n",
       "       [1. , 0. , 0. ],\n",
       "       [1. , 0. , 0. ],\n",
       "       [0. , 0.5, 0.5],\n",
       "       [0. , 0. , 1. ],\n",
       "       [0. , 0. , 1. ],\n",
       "       [0. , 0. , 1. ],\n",
       "       [1. , 0. , 0. ],\n",
       "       [0. , 0. , 1. ],\n",
       "       [0. , 1. , 0. ],\n",
       "       [0. , 1. , 0. ],\n",
       "       [0. , 1. , 0. ],\n",
       "       [1. , 0. , 0. ],\n",
       "       [0. , 1. , 0. ]])"
      ]
     },
     "execution_count": 10,
     "metadata": {},
     "output_type": "execute_result"
    }
   ],
   "source": [
    "%time clf.predict_proba(X_test)"
   ]
  },
  {
   "cell_type": "code",
   "execution_count": 11,
   "metadata": {},
   "outputs": [
    {
     "name": "stdout",
     "output_type": "stream",
     "text": [
      "CPU times: user 4 ms, sys: 0 ns, total: 4 ms\n",
      "Wall time: 5.47 ms\n"
     ]
    },
    {
     "data": {
      "text/plain": [
       "array([[1. , 0. , 0. ],\n",
       "       [0. , 1. , 0. ],\n",
       "       [1. , 0. , 0. ],\n",
       "       [1. , 0. , 0. ],\n",
       "       [0. , 0.5, 0.5],\n",
       "       [0. , 0. , 1. ],\n",
       "       [0. , 0. , 1. ],\n",
       "       [0. , 0. , 1. ],\n",
       "       [1. , 0. , 0. ],\n",
       "       [0. , 0. , 1. ],\n",
       "       [0. , 1. , 0. ],\n",
       "       [0. , 1. , 0. ],\n",
       "       [0. , 1. , 0. ],\n",
       "       [1. , 0. , 0. ],\n",
       "       [0. , 1. , 0. ]])"
      ]
     },
     "execution_count": 11,
     "metadata": {},
     "output_type": "execute_result"
    }
   ],
   "source": [
    "%time my_clf.predict_proba(X_test)"
   ]
  },
  {
   "cell_type": "code",
   "execution_count": 12,
   "metadata": {},
   "outputs": [
    {
     "data": {
      "text/plain": [
       "0.9333333333333333"
      ]
     },
     "execution_count": 12,
     "metadata": {},
     "output_type": "execute_result"
    }
   ],
   "source": [
    "clf.score(X_test, y_test)"
   ]
  },
  {
   "cell_type": "code",
   "execution_count": 13,
   "metadata": {},
   "outputs": [
    {
     "data": {
      "text/plain": [
       "0.9333333333333333"
      ]
     },
     "execution_count": 13,
     "metadata": {},
     "output_type": "execute_result"
    }
   ],
   "source": [
    "my_clf.score(X_test, y_test)"
   ]
  },
  {
   "cell_type": "markdown",
   "metadata": {},
   "source": [
    "Задание 3"
   ]
  },
  {
   "cell_type": "code",
   "execution_count": 14,
   "metadata": {},
   "outputs": [
    {
     "name": "stderr",
     "output_type": "stream",
     "text": [
      "/home/daliya/anaconda3/lib/python3.6/site-packages/ipykernel_launcher.py:25: RuntimeWarning: invalid value encountered in sqrt\n"
     ]
    },
    {
     "data": {
      "image/png": "[encoded data removed]",
      "text/plain": [
       "<Figure size 432x288 with 1 Axes>"
      ]
     },
     "metadata": {},
     "output_type": "display_data"
    }
   ],
   "source": [
    "iteration = 100\n",
    "result=[]\n",
    "for i in range(1,40):\n",
    "    res = []\n",
    "    for j in range(iteration):\n",
    "        X_train, X_test, y_train, y_test = train_test_split(iris.data, \n",
    "                                                            iris.target, \n",
    "                                                            test_size=0.1, \n",
    "                                                            stratify=iris.target\n",
    "                                                            )\n",
    "        my_clf = MyKNeighborsClassifier(n_neighbors=i)\n",
    "        my_clf.fit(X_train, y_train)\n",
    "        \n",
    "        res.append(my_clf.score(X_test, y_test))\n",
    "    result.append(np.mean(res))\n",
    "result = np.array(result)\n",
    "\n",
    "best_n = result.argmax()+1\n",
    "\n",
    "plt.plot(range(1,40), result)\n",
    "plt.xlabel(\"n neighbors\")\n",
    "plt.ylabel(\"mean score\")\n",
    "plt.axvline(best_n, color='red')\n",
    "plt.grid()\n",
    "plt.show()"
   ]
  },
  {
   "cell_type": "markdown",
   "metadata": {},
   "source": [
    "**MNIST**"
   ]
  },
  {
   "cell_type": "code",
   "execution_count": 15,
   "metadata": {},
   "outputs": [],
   "source": [
    "mnist = fetch_mldata('MNIST original')"
   ]
  },
  {
   "cell_type": "code",
   "execution_count": 16,
   "metadata": {},
   "outputs": [],
   "source": [
    "X_train, X_test, y_train, y_test = train_test_split(mnist.data, mnist.target, test_size=0.01, stratify=mnist.target)"
   ]
  },
  {
   "cell_type": "code",
   "execution_count": 17,
   "metadata": {},
   "outputs": [],
   "source": [
    "clf = KNeighborsClassifier(n_neighbors=2)\n",
    "my_clf = MyKNeighborsClassifier(n_neighbors=2)"
   ]
  },
  {
   "cell_type": "code",
   "execution_count": 18,
   "metadata": {},
   "outputs": [
    {
     "name": "stdout",
     "output_type": "stream",
     "text": [
      "CPU times: user 3min 8s, sys: 980 ms, total: 3min 9s\n",
      "Wall time: 3min 8s\n"
     ]
    },
    {
     "data": {
      "text/plain": [
       "KNeighborsClassifier(algorithm='auto', leaf_size=30, metric='minkowski',\n",
       "           metric_params=None, n_jobs=1, n_neighbors=2, p=2,\n",
       "           weights='uniform')"
      ]
     },
     "execution_count": 18,
     "metadata": {},
     "output_type": "execute_result"
    }
   ],
   "source": [
    "%time clf.fit(X_train, y_train)"
   ]
  },
  {
   "cell_type": "code",
   "execution_count": 19,
   "metadata": {},
   "outputs": [
    {
     "name": "stdout",
     "output_type": "stream",
     "text": [
      "CPU times: user 188 ms, sys: 452 ms, total: 640 ms\n",
      "Wall time: 766 ms\n"
     ]
    }
   ],
   "source": [
    "%time my_clf.fit(X_train, y_train)"
   ]
  },
  {
   "cell_type": "code",
   "execution_count": 20,
   "metadata": {},
   "outputs": [
    {
     "name": "stdout",
     "output_type": "stream",
     "text": [
      "CPU times: user 3min 55s, sys: 60 ms, total: 3min 55s\n",
      "Wall time: 3min 55s\n"
     ]
    },
    {
     "data": {
      "text/plain": [
       "array([1., 4., 5., 9., 8., 2., 4., 0., 7., 0., 5., 4., 2., 5., 2., 0., 8.,\n",
       "       4., 7., 6., 4., 1., 1., 1., 7., 3., 8., 3., 8., 1., 7., 4., 5., 7.,\n",
       "       5., 1., 9., 6., 6., 9., 3., 0., 3., 7., 2., 8., 3., 4., 6., 6., 3.,\n",
       "       8., 7., 7., 4., 7., 3., 5., 5., 6., 3., 3., 3., 8., 7., 1., 0., 9.,\n",
       "       3., 9., 2., 3., 9., 7., 9., 6., 1., 8., 8., 4., 6., 2., 8., 1., 2.,\n",
       "       2., 5., 0., 0., 3., 6., 1., 6., 5., 2., 0., 8., 0., 5., 4., 2., 3.,\n",
       "       0., 7., 4., 7., 7., 1., 9., 6., 3., 6., 0., 6., 1., 2., 1., 0., 0.,\n",
       "       9., 2., 8., 6., 3., 5., 6., 1., 3., 7., 5., 6., 9., 7., 7., 7., 5.,\n",
       "       3., 9., 9., 5., 5., 5., 6., 8., 8., 1., 6., 1., 2., 8., 8., 3., 8.,\n",
       "       7., 2., 0., 0., 2., 3., 4., 3., 3., 5., 2., 5., 6., 2., 3., 7., 1.,\n",
       "       0., 4., 3., 9., 2., 3., 2., 2., 2., 7., 2., 6., 4., 6., 2., 4., 1.,\n",
       "       7., 8., 8., 1., 1., 3., 1., 0., 7., 5., 7., 0., 2., 0., 4., 7., 4.,\n",
       "       3., 5., 4., 5., 6., 1., 3., 2., 4., 1., 2., 4., 3., 8., 7., 0., 4.,\n",
       "       5., 5., 4., 3., 4., 8., 0., 6., 9., 2., 9., 6., 7., 9., 8., 8., 5.,\n",
       "       0., 6., 7., 1., 0., 4., 9., 6., 1., 4., 4., 0., 2., 5., 7., 1., 4.,\n",
       "       1., 2., 0., 4., 8., 6., 7., 2., 0., 6., 1., 4., 3., 9., 1., 1., 9.,\n",
       "       0., 3., 6., 0., 2., 7., 7., 8., 7., 9., 7., 5., 5., 8., 5., 0., 0.,\n",
       "       9., 7., 4., 2., 2., 9., 4., 7., 1., 5., 7., 3., 0., 7., 0., 1., 3.,\n",
       "       1., 1., 5., 6., 6., 0., 1., 7., 7., 9., 9., 3., 6., 1., 0., 1., 3.,\n",
       "       8., 1., 4., 8., 5., 6., 3., 2., 3., 7., 0., 4., 5., 2., 0., 4., 4.,\n",
       "       5., 9., 4., 9., 6., 0., 1., 5., 2., 8., 5., 5., 5., 7., 6., 0., 9.,\n",
       "       9., 0., 4., 5., 9., 8., 3., 7., 7., 6., 7., 9., 1., 3., 1., 4., 0.,\n",
       "       4., 3., 8., 8., 9., 9., 7., 3., 2., 3., 9., 3., 4., 3., 8., 2., 1.,\n",
       "       1., 9., 1., 1., 6., 5., 5., 5., 2., 1., 6., 2., 7., 8., 9., 3., 5.,\n",
       "       9., 4., 1., 1., 4., 4., 3., 6., 3., 9., 7., 5., 7., 7., 3., 1., 6.,\n",
       "       2., 2., 2., 8., 5., 7., 3., 0., 0., 6., 8., 3., 3., 2., 9., 0., 1.,\n",
       "       6., 3., 7., 9., 4., 9., 2., 1., 9., 6., 9., 6., 5., 8., 4., 8., 4.,\n",
       "       8., 6., 1., 1., 7., 9., 7., 1., 6., 4., 0., 9., 4., 1., 7., 9., 4.,\n",
       "       0., 7., 4., 4., 7., 2., 3., 8., 7., 2., 2., 2., 3., 0., 3., 6., 1.,\n",
       "       9., 2., 2., 9., 1., 8., 5., 8., 8., 6., 1., 4., 2., 0., 2., 1., 1.,\n",
       "       0., 1., 6., 2., 6., 8., 7., 8., 4., 1., 1., 5., 1., 2., 5., 0., 2.,\n",
       "       7., 6., 9., 9., 7., 9., 4., 6., 1., 1., 5., 5., 5., 4., 4., 9., 4.,\n",
       "       0., 8., 4., 8., 3., 4., 1., 1., 2., 8., 4., 3., 0., 5., 9., 1., 1.,\n",
       "       1., 5., 2., 3., 7., 5., 5., 3., 8., 6., 1., 6., 3., 9., 6., 2., 5.,\n",
       "       7., 5., 3., 6., 7., 6., 0., 8., 2., 9., 1., 9., 1., 5., 0., 2., 7.,\n",
       "       4., 1., 6., 2., 1., 9., 0., 7., 4., 9., 6., 3., 9., 4., 3., 4., 3.,\n",
       "       6., 6., 1., 5., 8., 3., 7., 8., 6., 7., 4., 2., 3., 8., 7., 9., 2.,\n",
       "       3., 8., 0., 7., 1., 9., 0., 9., 9., 2., 9., 0., 3., 5., 5., 6., 8.,\n",
       "       7., 9., 8., 4., 5., 3., 7., 5., 4., 0., 3., 8., 0., 6., 5., 8., 9.,\n",
       "       3., 8., 0., 8., 0., 4., 7., 0., 8., 1., 6., 0., 3., 9., 6., 9., 2.,\n",
       "       6., 8., 0., 8., 0., 0., 6., 8., 0., 4., 7., 7., 4., 1., 2., 0., 2.,\n",
       "       2., 6., 0.])"
      ]
     },
     "execution_count": 20,
     "metadata": {},
     "output_type": "execute_result"
    }
   ],
   "source": [
    "%time clf.predict(X_test)"
   ]
  },
  {
   "cell_type": "code",
   "execution_count": 21,
   "metadata": {
    "scrolled": true
   },
   "outputs": [
    {
     "name": "stdout",
     "output_type": "stream",
     "text": [
      "CPU times: user 39.1 s, sys: 2.8 s, total: 41.9 s\n",
      "Wall time: 37.9 s\n"
     ]
    },
    {
     "data": {
      "text/plain": [
       "array([1, 4, 5, 9, 8, 2, 4, 0, 7, 0, 5, 4, 2, 5, 2, 0, 8, 4, 7, 6, 4, 1,\n",
       "       1, 1, 7, 3, 8, 3, 8, 1, 7, 4, 5, 7, 5, 1, 9, 6, 6, 9, 3, 0, 3, 7,\n",
       "       2, 8, 3, 4, 6, 6, 3, 8, 7, 7, 4, 7, 3, 5, 5, 6, 3, 3, 3, 8, 7, 1,\n",
       "       0, 9, 3, 9, 2, 3, 9, 7, 9, 6, 1, 8, 8, 4, 6, 2, 8, 1, 2, 2, 5, 0,\n",
       "       0, 3, 6, 1, 6, 5, 2, 0, 8, 0, 5, 4, 2, 3, 0, 7, 4, 7, 7, 1, 9, 6,\n",
       "       3, 6, 0, 6, 1, 2, 1, 0, 0, 9, 2, 8, 6, 3, 5, 6, 1, 3, 7, 5, 6, 9,\n",
       "       7, 7, 7, 5, 3, 9, 9, 5, 5, 5, 6, 8, 8, 1, 6, 1, 2, 8, 8, 3, 8, 7,\n",
       "       2, 0, 0, 2, 3, 4, 3, 3, 5, 2, 5, 6, 2, 3, 7, 1, 0, 4, 3, 9, 2, 3,\n",
       "       2, 2, 2, 7, 2, 6, 4, 6, 2, 4, 1, 7, 8, 8, 1, 1, 3, 1, 0, 7, 5, 7,\n",
       "       0, 2, 0, 4, 7, 4, 3, 5, 4, 5, 6, 1, 3, 2, 4, 1, 2, 4, 3, 8, 7, 0,\n",
       "       4, 5, 5, 4, 3, 4, 8, 0, 6, 9, 2, 9, 6, 7, 9, 8, 8, 5, 0, 6, 7, 1,\n",
       "       0, 4, 9, 6, 1, 4, 4, 0, 2, 5, 7, 1, 4, 1, 2, 0, 4, 8, 6, 7, 2, 0,\n",
       "       6, 1, 4, 3, 9, 1, 1, 9, 0, 3, 6, 0, 2, 7, 7, 8, 7, 9, 7, 5, 5, 8,\n",
       "       5, 0, 0, 9, 7, 4, 2, 2, 9, 4, 7, 1, 5, 7, 3, 0, 7, 0, 1, 3, 1, 1,\n",
       "       5, 6, 6, 0, 1, 7, 7, 9, 9, 3, 6, 1, 0, 1, 3, 8, 1, 4, 8, 5, 6, 3,\n",
       "       2, 3, 7, 0, 4, 5, 2, 0, 4, 4, 5, 9, 4, 9, 6, 0, 1, 5, 2, 8, 5, 5,\n",
       "       5, 7, 6, 0, 9, 9, 0, 4, 5, 9, 8, 3, 7, 7, 6, 7, 9, 1, 3, 1, 4, 0,\n",
       "       4, 3, 8, 8, 9, 9, 7, 3, 2, 3, 9, 3, 4, 3, 8, 2, 1, 1, 9, 1, 1, 6,\n",
       "       5, 5, 5, 2, 1, 6, 2, 7, 8, 9, 3, 5, 9, 4, 1, 1, 4, 4, 3, 6, 3, 9,\n",
       "       7, 5, 7, 7, 3, 1, 6, 2, 2, 2, 8, 5, 7, 3, 0, 0, 6, 8, 3, 3, 2, 9,\n",
       "       0, 1, 6, 3, 7, 9, 4, 9, 2, 1, 9, 6, 9, 6, 5, 8, 4, 8, 4, 8, 6, 1,\n",
       "       1, 7, 9, 7, 1, 6, 4, 0, 9, 4, 1, 7, 9, 4, 0, 7, 4, 4, 7, 2, 3, 8,\n",
       "       7, 2, 2, 2, 3, 0, 3, 6, 1, 9, 2, 2, 9, 1, 8, 5, 8, 8, 6, 1, 4, 2,\n",
       "       0, 2, 1, 1, 0, 1, 6, 2, 6, 8, 7, 8, 4, 1, 1, 5, 1, 2, 5, 0, 2, 7,\n",
       "       6, 9, 9, 7, 9, 4, 6, 1, 1, 5, 5, 5, 4, 4, 9, 4, 0, 8, 4, 8, 3, 4,\n",
       "       1, 1, 2, 8, 4, 3, 0, 5, 9, 1, 1, 1, 5, 2, 3, 7, 5, 5, 3, 8, 6, 1,\n",
       "       6, 3, 9, 6, 2, 5, 7, 5, 3, 6, 7, 6, 0, 8, 2, 9, 1, 9, 1, 5, 0, 2,\n",
       "       7, 4, 1, 6, 2, 1, 9, 0, 7, 4, 9, 6, 3, 9, 4, 3, 4, 3, 6, 6, 1, 5,\n",
       "       8, 3, 7, 8, 6, 7, 4, 2, 3, 8, 7, 9, 2, 3, 8, 0, 7, 1, 9, 0, 9, 9,\n",
       "       2, 9, 0, 3, 5, 5, 6, 8, 7, 9, 8, 4, 5, 3, 7, 5, 4, 0, 3, 8, 0, 6,\n",
       "       5, 8, 9, 3, 8, 0, 8, 0, 4, 7, 0, 8, 1, 6, 0, 3, 9, 6, 9, 2, 6, 8,\n",
       "       0, 8, 0, 0, 6, 8, 0, 4, 7, 7, 4, 1, 2, 0, 2, 2, 6, 0])"
      ]
     },
     "execution_count": 21,
     "metadata": {},
     "output_type": "execute_result"
    }
   ],
   "source": [
    "%time my_clf.predict(X_test)"
   ]
  },
  {
   "cell_type": "code",
   "execution_count": 22,
   "metadata": {
    "scrolled": true
   },
   "outputs": [
    {
     "name": "stdout",
     "output_type": "stream",
     "text": [
      "CPU times: user 3min 54s, sys: 108 ms, total: 3min 54s\n",
      "Wall time: 3min 55s\n"
     ]
    },
    {
     "data": {
      "text/plain": [
       "array([[0., 1., 0., ..., 0., 0., 0.],\n",
       "       [0., 0., 0., ..., 0., 0., 0.],\n",
       "       [0., 0., 0., ..., 0., 0., 0.],\n",
       "       ...,\n",
       "       [0., 0., 1., ..., 0., 0., 0.],\n",
       "       [0., 0., 0., ..., 0., 0., 0.],\n",
       "       [1., 0., 0., ..., 0., 0., 0.]])"
      ]
     },
     "execution_count": 22,
     "metadata": {},
     "output_type": "execute_result"
    }
   ],
   "source": [
    "%time clf.predict_proba(X_test)"
   ]
  },
  {
   "cell_type": "code",
   "execution_count": 23,
   "metadata": {},
   "outputs": [
    {
     "name": "stdout",
     "output_type": "stream",
     "text": [
      "CPU times: user 38.8 s, sys: 2.17 s, total: 40.9 s\n",
      "Wall time: 26.1 s\n"
     ]
    },
    {
     "data": {
      "text/plain": [
       "array([[0., 1., 0., ..., 0., 0., 0.],\n",
       "       [0., 0., 0., ..., 0., 0., 0.],\n",
       "       [0., 0., 0., ..., 0., 0., 0.],\n",
       "       ...,\n",
       "       [0., 0., 1., ..., 0., 0., 0.],\n",
       "       [0., 0., 0., ..., 0., 0., 0.],\n",
       "       [1., 0., 0., ..., 0., 0., 0.]])"
      ]
     },
     "execution_count": 23,
     "metadata": {},
     "output_type": "execute_result"
    }
   ],
   "source": [
    "%time my_clf.predict_proba(X_test)"
   ]
  },
  {
   "cell_type": "code",
   "execution_count": 24,
   "metadata": {},
   "outputs": [
    {
     "data": {
      "text/plain": [
       "0.9828571428571429"
      ]
     },
     "execution_count": 24,
     "metadata": {},
     "output_type": "execute_result"
    }
   ],
   "source": [
    "clf.score(X_test, y_test)"
   ]
  },
  {
   "cell_type": "code",
   "execution_count": 25,
   "metadata": {},
   "outputs": [
    {
     "data": {
      "text/plain": [
       "0.9828571428571429"
      ]
     },
     "execution_count": 25,
     "metadata": {},
     "output_type": "execute_result"
    }
   ],
   "source": [
    "my_clf.score(X_test, y_test)"
   ]
  },
  {
   "cell_type": "markdown",
   "metadata": {},
   "source": [
    "Задание 4"
   ]
  },
  {
   "cell_type": "code",
   "execution_count": 26,
   "metadata": {},
   "outputs": [],
   "source": [
    "clf = KNeighborsClassifier(n_neighbors=best_n, algorithm='kd_tree')\n",
    "my_clf = MyKNeighborsClassifier(n_neighbors=best_n, algorithm='kd_tree')"
   ]
  },
  {
   "cell_type": "code",
   "execution_count": 27,
   "metadata": {},
   "outputs": [],
   "source": [
    "X_train, X_test, y_train, y_test = train_test_split(mnist.data, mnist.target, test_size=0.01, stratify=mnist.target)"
   ]
  },
  {
   "cell_type": "code",
   "execution_count": 28,
   "metadata": {},
   "outputs": [
    {
     "name": "stdout",
     "output_type": "stream",
     "text": [
      "CPU times: user 3min 7s, sys: 1.16 s, total: 3min 8s\n",
      "Wall time: 3min 8s\n"
     ]
    },
    {
     "data": {
      "text/plain": [
       "KNeighborsClassifier(algorithm='kd_tree', leaf_size=30, metric='minkowski',\n",
       "           metric_params=None, n_jobs=1, n_neighbors=13, p=2,\n",
       "           weights='uniform')"
      ]
     },
     "execution_count": 28,
     "metadata": {},
     "output_type": "execute_result"
    }
   ],
   "source": [
    "%time clf.fit(X_train, y_train)"
   ]
  },
  {
   "cell_type": "code",
   "execution_count": 29,
   "metadata": {},
   "outputs": [
    {
     "name": "stdout",
     "output_type": "stream",
     "text": [
      "CPU times: user 3min 3s, sys: 996 ms, total: 3min 4s\n",
      "Wall time: 3min 3s\n"
     ]
    }
   ],
   "source": [
    "%time my_clf.fit(X_train, y_train)"
   ]
  },
  {
   "cell_type": "code",
   "execution_count": 30,
   "metadata": {},
   "outputs": [
    {
     "name": "stdout",
     "output_type": "stream",
     "text": [
      "CPU times: user 3min 55s, sys: 280 ms, total: 3min 55s\n",
      "Wall time: 3min 57s\n"
     ]
    },
    {
     "data": {
      "text/plain": [
       "array([1., 8., 0., 6., 2., 5., 1., 2., 4., 4., 5., 0., 2., 2., 1., 4., 7.,\n",
       "       8., 7., 9., 9., 7., 6., 3., 2., 6., 4., 2., 1., 5., 6., 6., 0., 8.,\n",
       "       7., 4., 0., 1., 8., 0., 7., 9., 5., 4., 3., 2., 8., 1., 4., 8., 3.,\n",
       "       5., 0., 3., 6., 8., 9., 0., 5., 4., 4., 3., 7., 4., 2., 2., 2., 0.,\n",
       "       8., 7., 1., 0., 3., 7., 1., 9., 4., 8., 0., 4., 1., 1., 2., 2., 2.,\n",
       "       4., 4., 9., 7., 9., 7., 1., 3., 0., 3., 3., 0., 1., 7., 4., 8., 2.,\n",
       "       1., 7., 8., 2., 5., 1., 1., 8., 0., 8., 2., 7., 7., 1., 6., 9., 1.,\n",
       "       2., 0., 5., 2., 3., 1., 4., 1., 8., 3., 6., 6., 5., 1., 7., 2., 1.,\n",
       "       5., 6., 8., 9., 4., 7., 4., 1., 6., 8., 2., 8., 9., 7., 2., 6., 2.,\n",
       "       0., 2., 6., 0., 9., 9., 3., 9., 6., 1., 6., 5., 4., 2., 0., 9., 4.,\n",
       "       7., 4., 9., 6., 1., 0., 8., 7., 9., 3., 8., 3., 5., 7., 1., 5., 0.,\n",
       "       8., 3., 5., 3., 8., 7., 4., 3., 6., 5., 8., 1., 8., 0., 0., 8., 9.,\n",
       "       5., 9., 6., 0., 1., 4., 9., 5., 8., 0., 1., 3., 7., 5., 8., 9., 9.,\n",
       "       0., 1., 7., 3., 7., 9., 9., 2., 3., 2., 3., 4., 0., 7., 4., 4., 7.,\n",
       "       1., 6., 2., 8., 9., 9., 3., 1., 9., 2., 1., 2., 2., 3., 2., 7., 9.,\n",
       "       0., 6., 6., 6., 8., 5., 1., 0., 7., 1., 0., 1., 3., 9., 3., 8., 9.,\n",
       "       5., 3., 0., 6., 2., 6., 2., 5., 3., 0., 4., 3., 5., 7., 7., 4., 0.,\n",
       "       0., 6., 3., 4., 0., 6., 7., 1., 6., 6., 9., 7., 4., 8., 7., 2., 6.,\n",
       "       7., 7., 5., 0., 0., 0., 0., 3., 0., 4., 9., 2., 8., 5., 5., 2., 3.,\n",
       "       2., 5., 6., 6., 4., 1., 3., 6., 5., 9., 2., 8., 0., 4., 1., 9., 2.,\n",
       "       7., 0., 5., 4., 2., 6., 3., 1., 4., 3., 1., 2., 4., 6., 6., 2., 7.,\n",
       "       0., 0., 1., 1., 1., 9., 2., 0., 3., 9., 1., 9., 9., 4., 2., 2., 4.,\n",
       "       1., 0., 1., 4., 1., 6., 1., 6., 2., 0., 6., 5., 9., 5., 4., 8., 4.,\n",
       "       3., 4., 0., 0., 2., 4., 5., 1., 7., 7., 5., 3., 7., 3., 4., 0., 2.,\n",
       "       1., 3., 3., 8., 9., 4., 4., 8., 5., 1., 9., 9., 1., 0., 3., 7., 1.,\n",
       "       0., 3., 0., 7., 5., 1., 0., 0., 8., 7., 9., 6., 8., 7., 3., 3., 1.,\n",
       "       2., 1., 9., 7., 2., 5., 6., 2., 3., 8., 5., 3., 0., 2., 1., 1., 5.,\n",
       "       6., 3., 3., 3., 8., 9., 6., 2., 7., 9., 4., 3., 9., 5., 1., 7., 6.,\n",
       "       5., 4., 8., 8., 1., 6., 1., 3., 8., 2., 7., 7., 3., 6., 2., 6., 0.,\n",
       "       0., 2., 0., 3., 0., 6., 8., 8., 8., 5., 5., 5., 0., 1., 0., 4., 7.,\n",
       "       7., 7., 1., 7., 1., 7., 3., 1., 9., 0., 2., 3., 9., 7., 7., 0., 7.,\n",
       "       9., 5., 7., 9., 4., 6., 5., 1., 6., 5., 7., 2., 1., 9., 9., 0., 0.,\n",
       "       8., 6., 5., 1., 6., 3., 7., 1., 4., 9., 6., 5., 7., 3., 4., 4., 5.,\n",
       "       4., 4., 5., 4., 3., 6., 6., 8., 9., 2., 0., 6., 4., 6., 9., 8., 4.,\n",
       "       9., 5., 3., 9., 8., 3., 2., 1., 8., 8., 1., 3., 9., 3., 8., 5., 8.,\n",
       "       6., 1., 6., 7., 5., 5., 6., 1., 3., 5., 2., 8., 8., 0., 7., 8., 0.,\n",
       "       5., 3., 6., 9., 1., 0., 4., 6., 2., 5., 5., 6., 1., 1., 3., 4., 2.,\n",
       "       6., 1., 5., 6., 1., 3., 4., 6., 1., 9., 4., 9., 6., 7., 2., 2., 5.,\n",
       "       9., 3., 8., 9., 8., 9., 5., 1., 5., 9., 0., 4., 5., 7., 9., 0., 8.,\n",
       "       5., 2., 3., 9., 6., 1., 3., 3., 5., 1., 6., 6., 6., 8., 9., 7., 1.,\n",
       "       9., 3., 1., 7., 3., 3., 4., 7., 1., 8., 6., 0., 2., 2., 8., 9., 7.,\n",
       "       2., 5., 7.])"
      ]
     },
     "execution_count": 30,
     "metadata": {},
     "output_type": "execute_result"
    }
   ],
   "source": [
    "%time clf.predict(X_test)"
   ]
  },
  {
   "cell_type": "code",
   "execution_count": 31,
   "metadata": {},
   "outputs": [
    {
     "name": "stdout",
     "output_type": "stream",
     "text": [
      "CPU times: user 3min 17s, sys: 328 ms, total: 3min 17s\n",
      "Wall time: 3min 20s\n"
     ]
    },
    {
     "data": {
      "text/plain": [
       "array([1, 8, 0, 6, 2, 5, 1, 2, 4, 4, 5, 0, 2, 2, 1, 4, 7, 8, 7, 9, 9, 7,\n",
       "       6, 3, 2, 6, 4, 2, 1, 5, 6, 6, 0, 8, 7, 4, 0, 1, 8, 0, 7, 9, 5, 4,\n",
       "       3, 2, 8, 1, 4, 8, 3, 5, 0, 3, 6, 8, 9, 0, 5, 4, 4, 3, 7, 4, 2, 2,\n",
       "       2, 0, 8, 7, 1, 0, 3, 7, 1, 9, 4, 8, 0, 4, 1, 1, 2, 2, 2, 4, 4, 9,\n",
       "       7, 9, 7, 1, 3, 0, 3, 3, 0, 1, 7, 4, 8, 2, 1, 7, 8, 2, 5, 1, 1, 8,\n",
       "       0, 8, 2, 7, 7, 1, 6, 9, 1, 2, 0, 5, 2, 3, 1, 4, 1, 8, 3, 6, 6, 5,\n",
       "       1, 7, 2, 1, 5, 6, 8, 9, 4, 7, 4, 1, 6, 8, 2, 8, 9, 7, 2, 6, 2, 0,\n",
       "       2, 6, 0, 9, 9, 3, 9, 6, 1, 6, 5, 4, 2, 0, 9, 4, 7, 4, 9, 6, 1, 0,\n",
       "       8, 7, 9, 3, 8, 3, 5, 7, 1, 5, 0, 8, 3, 5, 3, 8, 7, 4, 3, 6, 5, 8,\n",
       "       1, 8, 0, 0, 8, 9, 5, 9, 6, 0, 1, 4, 9, 5, 8, 0, 1, 3, 7, 5, 8, 9,\n",
       "       9, 0, 1, 7, 3, 7, 9, 9, 2, 3, 2, 3, 4, 0, 7, 4, 4, 7, 1, 6, 2, 8,\n",
       "       9, 9, 3, 1, 9, 2, 1, 2, 2, 3, 2, 7, 9, 0, 6, 6, 6, 8, 5, 1, 0, 7,\n",
       "       1, 0, 1, 3, 9, 3, 8, 9, 5, 3, 0, 6, 2, 6, 2, 5, 3, 0, 4, 3, 5, 7,\n",
       "       7, 4, 0, 0, 6, 3, 4, 0, 6, 7, 1, 6, 6, 9, 7, 4, 8, 7, 2, 6, 7, 7,\n",
       "       5, 0, 0, 0, 0, 3, 0, 4, 9, 2, 8, 5, 5, 2, 3, 2, 5, 6, 6, 4, 1, 3,\n",
       "       6, 5, 9, 2, 8, 0, 4, 1, 9, 2, 7, 0, 5, 4, 2, 6, 3, 1, 4, 3, 1, 2,\n",
       "       4, 6, 6, 2, 7, 0, 0, 1, 1, 1, 9, 2, 0, 3, 9, 1, 9, 9, 4, 2, 2, 4,\n",
       "       1, 0, 1, 4, 1, 6, 1, 6, 2, 0, 6, 5, 9, 5, 4, 8, 4, 3, 4, 0, 0, 2,\n",
       "       4, 5, 1, 7, 7, 5, 3, 7, 3, 4, 0, 2, 1, 3, 3, 8, 9, 4, 4, 8, 5, 1,\n",
       "       9, 9, 1, 0, 3, 7, 1, 0, 3, 0, 7, 5, 1, 0, 0, 8, 7, 9, 6, 8, 7, 3,\n",
       "       3, 1, 2, 1, 9, 7, 2, 5, 6, 2, 3, 8, 5, 3, 0, 2, 1, 1, 5, 6, 3, 3,\n",
       "       3, 8, 9, 6, 2, 7, 9, 4, 3, 9, 5, 1, 7, 6, 5, 4, 8, 8, 1, 6, 1, 3,\n",
       "       8, 2, 7, 7, 3, 6, 2, 6, 0, 0, 2, 0, 3, 0, 6, 8, 8, 8, 5, 5, 5, 0,\n",
       "       1, 0, 4, 7, 7, 7, 1, 7, 1, 7, 3, 1, 9, 0, 2, 3, 9, 7, 7, 0, 7, 9,\n",
       "       5, 7, 9, 4, 6, 5, 1, 6, 5, 7, 2, 1, 9, 9, 0, 0, 8, 6, 5, 1, 6, 3,\n",
       "       7, 1, 4, 9, 6, 5, 7, 3, 4, 4, 5, 4, 4, 5, 4, 3, 6, 6, 8, 9, 2, 0,\n",
       "       6, 4, 6, 9, 8, 4, 9, 5, 3, 9, 8, 3, 2, 1, 8, 8, 1, 3, 9, 3, 8, 5,\n",
       "       8, 6, 1, 6, 7, 5, 5, 6, 1, 3, 5, 2, 8, 8, 0, 7, 8, 0, 5, 3, 6, 9,\n",
       "       1, 0, 4, 6, 2, 5, 5, 6, 1, 1, 3, 4, 2, 6, 1, 5, 6, 1, 3, 4, 6, 1,\n",
       "       9, 4, 9, 6, 7, 2, 2, 5, 9, 3, 8, 9, 8, 9, 5, 1, 5, 9, 0, 4, 5, 7,\n",
       "       9, 0, 8, 5, 2, 3, 9, 6, 1, 3, 3, 5, 1, 6, 6, 6, 8, 9, 7, 1, 9, 3,\n",
       "       1, 7, 3, 3, 4, 7, 1, 8, 6, 0, 2, 2, 8, 9, 7, 2, 5, 7])"
      ]
     },
     "execution_count": 31,
     "metadata": {},
     "output_type": "execute_result"
    }
   ],
   "source": [
    "%time my_clf.predict(X_test)"
   ]
  },
  {
   "cell_type": "code",
   "execution_count": 32,
   "metadata": {},
   "outputs": [
    {
     "name": "stdout",
     "output_type": "stream",
     "text": [
      "CPU times: user 3min 55s, sys: 32 ms, total: 3min 55s\n",
      "Wall time: 3min 55s\n"
     ]
    },
    {
     "data": {
      "text/plain": [
       "array([[0.        , 1.        , 0.        , ..., 0.        , 0.        ,\n",
       "        0.        ],\n",
       "       [0.        , 0.38461538, 0.        , ..., 0.        , 0.61538462,\n",
       "        0.        ],\n",
       "       [1.        , 0.        , 0.        , ..., 0.        , 0.        ,\n",
       "        0.        ],\n",
       "       ...,\n",
       "       [0.        , 0.        , 0.69230769, ..., 0.        , 0.        ,\n",
       "        0.        ],\n",
       "       [0.        , 0.        , 0.        , ..., 0.        , 0.        ,\n",
       "        0.        ],\n",
       "       [0.        , 0.        , 0.        , ..., 1.        , 0.        ,\n",
       "        0.        ]])"
      ]
     },
     "execution_count": 32,
     "metadata": {},
     "output_type": "execute_result"
    }
   ],
   "source": [
    "%time clf.predict_proba(X_test)"
   ]
  },
  {
   "cell_type": "code",
   "execution_count": 33,
   "metadata": {},
   "outputs": [
    {
     "name": "stdout",
     "output_type": "stream",
     "text": [
      "CPU times: user 3min 16s, sys: 48 ms, total: 3min 17s\n",
      "Wall time: 3min 17s\n"
     ]
    },
    {
     "data": {
      "text/plain": [
       "array([[0.        , 1.        , 0.        , ..., 0.        , 0.        ,\n",
       "        0.        ],\n",
       "       [0.        , 0.38461538, 0.        , ..., 0.        , 0.61538462,\n",
       "        0.        ],\n",
       "       [1.        , 0.        , 0.        , ..., 0.        , 0.        ,\n",
       "        0.        ],\n",
       "       ...,\n",
       "       [0.        , 0.        , 0.69230769, ..., 0.        , 0.        ,\n",
       "        0.        ],\n",
       "       [0.        , 0.        , 0.        , ..., 0.        , 0.        ,\n",
       "        0.        ],\n",
       "       [0.        , 0.        , 0.        , ..., 1.        , 0.        ,\n",
       "        0.        ]])"
      ]
     },
     "execution_count": 33,
     "metadata": {},
     "output_type": "execute_result"
    }
   ],
   "source": [
    "%time my_clf.predict_proba(X_test)"
   ]
  },
  {
   "cell_type": "code",
   "execution_count": 34,
   "metadata": {},
   "outputs": [
    {
     "data": {
      "text/plain": [
       "0.9657142857142857"
      ]
     },
     "execution_count": 34,
     "metadata": {},
     "output_type": "execute_result"
    }
   ],
   "source": [
    "clf.score(X_test, y_test)"
   ]
  },
  {
   "cell_type": "code",
   "execution_count": 35,
   "metadata": {},
   "outputs": [
    {
     "data": {
      "text/plain": [
       "0.9657142857142857"
      ]
     },
     "execution_count": 35,
     "metadata": {},
     "output_type": "execute_result"
    }
   ],
   "source": [
    "my_clf.score(X_test, y_test)"
   ]
  },
  {
   "cell_type": "markdown",
   "metadata": {},
   "source": [
    "Задание 5"
   ]
  },
  {
   "cell_type": "code",
   "execution_count": 36,
   "metadata": {},
   "outputs": [
    {
     "data": {
      "text/plain": [
       "'Класс для работы fit'"
      ]
     },
     "execution_count": 36,
     "metadata": {},
     "output_type": "execute_result"
    }
   ],
   "source": [
    "# seaborn\n",
    "\"Библиотека для визуализации данных. Основана на matplotlib, имеет более красивый, информативный интерфейс\"\n",
    "# matplotlib\n",
    "\"Библиотека для визуализации данных с помощью графиков\"\n",
    "# train_test_split\n",
    "\"Функция, которая разделяет данные на обучающую и тестовую.\"\n",
    "\"Можно выбрать в каком соотношении(test_size) и настроить рандомизацию (random_state)\"\n",
    "# Pipelin%load_ext e (from sklearn.pipeline import Pipeline)\n",
    "\"Нужен для последовательного преобразования данных\"\n",
    "# StandardScaler (from sklearn.preprocessing import StandardScaler)\n",
    "\"Стандартизирует данные таким образом что выборочное среднее=0 и стандартное отклонение=1\"\n",
    "# ClassifierMixin\n",
    "\"класс для классификаторов, которые от него наследуются\"\n",
    "# NeighborsBase\n",
    "\"Класс sklearn для оценок ближайших соседей\"\n",
    "# KNeighborsMixin\n",
    "\"Класс из sklearn для поиска ближайших соседей\"\n",
    "# SupervisedIntegerMixin\n",
    "\"Класс для работы fit\""
   ]
  },
  {
   "cell_type": "code",
   "execution_count": null,
   "metadata": {},
   "outputs": [],
   "source": []
  }
 ],
 "metadata": {
  "kernelspec": {
   "display_name": "Python 3",
   "language": "python",
   "name": "python3"
  },
  "language_info": {
   "codemirror_mode": {
    "name": "ipython",
    "version": 3
   },
   "file_extension": ".py",
   "mimetype": "text/x-python",
   "name": "python",
   "nbconvert_exporter": "python",
   "pygments_lexer": "ipython3",
   "version": "3.6.5"
  }
 },
 "nbformat": 4,
 "nbformat_minor": 2
}
