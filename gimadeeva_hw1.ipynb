{
 "cells": [
  {
   "cell_type": "markdown",
   "metadata": {},
   "source": [
    "**Общая информация**\n",
    "\n",
    "**Срок сдачи:** 18 октября 2017, 06:00 <br\\>\n",
    "**Штраф за опоздание:** -2 балла после 06:00 18 октября, -4 балла после 06:00 25 октября, -6 баллов после 06:00 1 ноября\n",
    "\n",
    "При отправлении ДЗ указывайте фамилию в названии файла\n",
    "Присылать ДЗ необходимо в виде ссылки на свой github репозиторий в slack @alkhamush\n",
    "\n",
    "Необходимо в slack создать таск в приватный чат:\n",
    "/todo Фамилия Имя ссылка на гитхаб @alkhamush\n",
    "Пример:\n",
    "/todo Ксения Стройкова https://github.com/stroykova/spheremailru/stroykova_hw1.ipynb @alkhamush\n",
    "Дополнительно нужно просто скинуть ссылку в slack в личный чат\n",
    "\n",
    "Используйте данный Ipython Notebook при оформлении домашнего задания."
   ]
  },
  {
   "cell_type": "markdown",
   "metadata": {},
   "source": [
    "###### Задание 1 (2 баллов)\n",
    "Реализовать KNN в классе MyKNeighborsClassifier (обязательное условие: точность не ниже sklearn реализации)\n",
    "Разберитесь самостоятельно, какая мера расстояния используется в KNeighborsClassifier дефолтно и реализуйте свой алгоритм именно с этой мерой. Самостоятельно разберитесь, как считается score из KNeighborsClassifier и реализуйте аналог в своём классе. Score не должен уступать значению KNN из sklearn\n",
    "\n",
    "###### Задание 2 (2 балла)\n",
    "Добиться скорости работы на fit,  predict и predict_proba сравнимой со sklearn для iris и mnist\n",
    "Для этого используем numpy\n",
    "\n",
    "###### Задание 3 (2 балла)\n",
    "Для iris найдите такой параметр n_neighbors, при котором выдаётся наилучший score. Нарисуйте график зависимости score от n_neighbors\n",
    "\n",
    "###### Задание 4 (3 балла)\n",
    "Добавить algorithm='kd_tree' в реализацию KNN (использовать KDTree из sklearn.neighbors). Значение n_neighbors нужно взять из задания 3. Добиться скорости работы на fit,  predict и predict_proba сравнимой со sklearn для iris и mnist\n",
    "Для этого используем numpy. Score не должен уступать значению KNN из sklearn\n",
    "\n",
    "###### Задание 5 (1 балла)\n",
    "Описать для чего нужны следующие библиотеки/классы/функции (список будет ниже)\n",
    "\n",
    "**Штрафные баллы:**\n",
    "\n",
    "1. Невыполнение PEP8 -1 балл\n",
    "2. Отсутствие фамилии в имени скрипта (скрипт должен называться по аналогии со stroykova_hw1.ipynb) -1 балл\n",
    "3. Все строчки должны быть выполнены. Нужно, чтобы output команды можно было увидеть уже в git'е. В противном случае -1 балл\n",
    "4. При оформлении ДЗ нужно пользоваться данным файлом в качестве шаблона. Не нужно удалять и видоизменять структуру кода и текст. В противном случае -1 балл\n"
   ]
  },
  {
   "cell_type": "code",
   "execution_count": 105,
   "metadata": {},
   "outputs": [
    {
     "name": "stdout",
     "output_type": "stream",
     "text": [
      "The pycodestyle_magic extension is already loaded. To reload it, use:\n",
      "  %reload_ext pycodestyle_magic\n"
     ]
    }
   ],
   "source": [
    "import numpy as np\n",
    "import matplotlib.pyplot as plt\n",
    "\n",
    "import seaborn as sns\n",
    "from sklearn import datasets\n",
    "from sklearn.base import ClassifierMixin\n",
    "from sklearn.datasets import fetch_mldata\n",
    "from sklearn.neighbors.base import NeighborsBase, KNeighborsMixin, SupervisedIntegerMixin \n",
    "from sklearn.model_selection import train_test_split\n",
    "from sklearn.neighbors import KNeighborsClassifier, KDTree\n",
    "%load_ext pycodestyle_magic"
   ]
  },
  {
   "cell_type": "markdown",
   "metadata": {},
   "source": [
    "**IRIS**"
   ]
  },
  {
   "cell_type": "code",
   "execution_count": 106,
   "metadata": {},
   "outputs": [],
   "source": [
    "#%%pycodestyle\n",
    "#from collections import Counter\n",
    "class MyKNeighborsClassifier(NeighborsBase, KNeighborsMixin, SupervisedIntegerMixin, ClassifierMixin):\n",
    "    \n",
    "    def __init__(self, n_neighbors, algorithm='brute'):\n",
    "        self.n_neighbors = n_neighbors\n",
    "        self.algorithm = algorithm\n",
    "    \n",
    "    def fit(self, X, y): #Fit the model using X as training data and y as target values%%pycodestyle\n",
    "            self.X_train = np.array(X).astype(float)\n",
    "            self.y_train = np.array(y)            \n",
    "            self.quantity_of_classes=len(np.unique(self.y_train))\n",
    "            if (self.algorithm == 'kd_tree') :\n",
    "                self.tree=KDTree(self.X_train)         \n",
    "  \n",
    "    def y_near_neighbors(self,X) :\n",
    "        if (self.algorithm == 'brute') :         \n",
    "            #dist=[[ np.linalg.norm(q-X[i]) for q in np.copy(self.X_train) ] for i in range(len(X))]\n",
    "            #from scipy \n",
    "            #dist = scipy.spatial.distance.cdist(X, X_train,'minkowski', p=2)\n",
    "            \n",
    "            X = X.astype(float)\n",
    "            X_train_squared = np.sum(self.X_train**2, axis=1).reshape(1, -1)\n",
    "            X_test_squared = np.sum(X**2, axis=1).reshape(-1, 1)\n",
    "            dist = np.sqrt( X_test_squared-2*np.matmul(X, self.X_train.T)+X_train_squared )\n",
    "            \n",
    "            idx=np.argpartition( dist, self.n_neighbors)[:, :self.n_neighbors]   \n",
    "        if (self.algorithm == 'kd_tree') :   \n",
    "            dist,idx=self.tree.query(X, k=self.n_neighbors)\n",
    "        return self.y_train[idx].astype('int64')\n",
    "    \n",
    "    def predict(self, X): #Predict the class labels for the provided data\n",
    "        y_of_near_neighbors = self.y_near_neighbors(X)\n",
    "        return np.apply_along_axis( lambda x: np.bincount(x).argmax(), 1, y_of_near_neighbors)\n",
    "        \n",
    "    def count_y(self, x) :\n",
    "        #res = []\n",
    "        #r=Counter(x)\n",
    "        #for i in range(self.quantity_of_classes) :\n",
    "            #res.append(r[i])\n",
    "        #res=np.array(res)\n",
    "        #return res\n",
    "        return ( np.unique(np.concatenate((np.arange(self.quantity_of_classes), x)), return_counts=True )[1] - 1) \n",
    "        \n",
    "    def predict_proba(self, X): #Return probability estimates for the test data X.\n",
    "        return np.apply_along_axis( lambda x: self.count_y(x)/self.n_neighbors, 1, self.y_near_neighbors(X) )        \n",
    "    \n",
    "    def score(self, X, y): #Returns the mean accuracy on the given test data and labels.    \n",
    "        sum=0\n",
    "        for i in (y == self.predict(X) ) :\n",
    "            sum+=i\n",
    "        return sum/len(y)"
   ]
  },
  {
   "cell_type": "code",
   "execution_count": 107,
   "metadata": {},
   "outputs": [],
   "source": [
    "iris = datasets.load_iris()"
   ]
  },
  {
   "cell_type": "code",
   "execution_count": 108,
   "metadata": {},
   "outputs": [],
   "source": [
    "X_train, X_test, y_train, y_test = train_test_split(iris.data, iris.target, test_size=0.1, stratify=iris.target)"
   ]
  },
  {
   "cell_type": "code",
   "execution_count": 109,
   "metadata": {},
   "outputs": [],
   "source": [
    "clf = KNeighborsClassifier(n_neighbors=2)\n",
    "my_clf = MyKNeighborsClassifier(n_neighbors=2)"
   ]
  },
  {
   "cell_type": "code",
   "execution_count": 110,
   "metadata": {},
   "outputs": [
    {
     "name": "stdout",
     "output_type": "stream",
     "text": [
      "CPU times: user 0 ns, sys: 0 ns, total: 0 ns\n",
      "Wall time: 240 ms\n"
     ]
    },
    {
     "data": {
      "text/plain": [
       "KNeighborsClassifier(algorithm='auto', leaf_size=30, metric='minkowski',\n",
       "           metric_params=None, n_jobs=1, n_neighbors=2, p=2,\n",
       "           weights='uniform')"
      ]
     },
     "execution_count": 110,
     "metadata": {},
     "output_type": "execute_result"
    }
   ],
   "source": [
    "%time clf.fit(X_train, y_train)"
   ]
  },
  {
   "cell_type": "code",
   "execution_count": 111,
   "metadata": {},
   "outputs": [
    {
     "name": "stdout",
     "output_type": "stream",
     "text": [
      "CPU times: user 4 ms, sys: 0 ns, total: 4 ms\n",
      "Wall time: 6.14 ms\n"
     ]
    }
   ],
   "source": [
    "%time my_clf.fit(X_train, y_train)"
   ]
  },
  {
   "cell_type": "code",
   "execution_count": 112,
   "metadata": {},
   "outputs": [
    {
     "name": "stdout",
     "output_type": "stream",
     "text": [
      "CPU times: user 4 ms, sys: 0 ns, total: 4 ms\n",
      "Wall time: 65 ms\n"
     ]
    },
    {
     "data": {
      "text/plain": [
       "array([2, 1, 2, 0, 2, 0, 0, 1, 1, 2, 1, 1, 0, 2, 0])"
      ]
     },
     "execution_count": 112,
     "metadata": {},
     "output_type": "execute_result"
    }
   ],
   "source": [
    "%time clf.predict(X_test)"
   ]
  },
  {
   "cell_type": "code",
   "execution_count": 113,
   "metadata": {},
   "outputs": [
    {
     "name": "stdout",
     "output_type": "stream",
     "text": [
      "CPU times: user 0 ns, sys: 0 ns, total: 0 ns\n",
      "Wall time: 1.67 ms\n"
     ]
    },
    {
     "data": {
      "text/plain": [
       "array([2, 1, 2, 0, 2, 0, 0, 1, 1, 2, 1, 1, 0, 2, 0])"
      ]
     },
     "execution_count": 113,
     "metadata": {},
     "output_type": "execute_result"
    }
   ],
   "source": [
    "%time my_clf.predict(X_test)"
   ]
  },
  {
   "cell_type": "code",
   "execution_count": 114,
   "metadata": {},
   "outputs": [
    {
     "name": "stdout",
     "output_type": "stream",
     "text": [
      "CPU times: user 4 ms, sys: 0 ns, total: 4 ms\n",
      "Wall time: 45 ms\n"
     ]
    },
    {
     "data": {
      "text/plain": [
       "array([[0., 0., 1.],\n",
       "       [0., 1., 0.],\n",
       "       [0., 0., 1.],\n",
       "       [1., 0., 0.],\n",
       "       [0., 0., 1.],\n",
       "       [1., 0., 0.],\n",
       "       [1., 0., 0.],\n",
       "       [0., 1., 0.],\n",
       "       [0., 1., 0.],\n",
       "       [0., 0., 1.],\n",
       "       [0., 1., 0.],\n",
       "       [0., 1., 0.],\n",
       "       [1., 0., 0.],\n",
       "       [0., 0., 1.],\n",
       "       [1., 0., 0.]])"
      ]
     },
     "execution_count": 114,
     "metadata": {},
     "output_type": "execute_result"
    }
   ],
   "source": [
    "%time clf.predict_proba(X_test)"
   ]
  },
  {
   "cell_type": "code",
   "execution_count": 115,
   "metadata": {},
   "outputs": [
    {
     "name": "stdout",
     "output_type": "stream",
     "text": [
      "CPU times: user 4 ms, sys: 0 ns, total: 4 ms\n",
      "Wall time: 111 ms\n"
     ]
    },
    {
     "data": {
      "text/plain": [
       "array([[0., 0., 1.],\n",
       "       [0., 1., 0.],\n",
       "       [0., 0., 1.],\n",
       "       [1., 0., 0.],\n",
       "       [0., 0., 1.],\n",
       "       [1., 0., 0.],\n",
       "       [1., 0., 0.],\n",
       "       [0., 1., 0.],\n",
       "       [0., 1., 0.],\n",
       "       [0., 0., 1.],\n",
       "       [0., 1., 0.],\n",
       "       [0., 1., 0.],\n",
       "       [1., 0., 0.],\n",
       "       [0., 0., 1.],\n",
       "       [1., 0., 0.]])"
      ]
     },
     "execution_count": 115,
     "metadata": {},
     "output_type": "execute_result"
    }
   ],
   "source": [
    "%time my_clf.predict_proba(X_test)"
   ]
  },
  {
   "cell_type": "code",
   "execution_count": 116,
   "metadata": {},
   "outputs": [
    {
     "data": {
      "text/plain": [
       "1.0"
      ]
     },
     "execution_count": 116,
     "metadata": {},
     "output_type": "execute_result"
    }
   ],
   "source": [
    "clf.score(X_test, y_test)"
   ]
  },
  {
   "cell_type": "code",
   "execution_count": 117,
   "metadata": {},
   "outputs": [
    {
     "data": {
      "text/plain": [
       "1.0"
      ]
     },
     "execution_count": 117,
     "metadata": {},
     "output_type": "execute_result"
    }
   ],
   "source": [
    "my_clf.score(X_test, y_test)"
   ]
  },
  {
   "cell_type": "markdown",
   "metadata": {},
   "source": [
    "Задание 3"
   ]
  },
  {
   "cell_type": "code",
   "execution_count": 118,
   "metadata": {},
   "outputs": [
    {
     "name": "stderr",
     "output_type": "stream",
     "text": [
      "/home/daliya/anaconda3/lib/python3.6/site-packages/ipykernel_launcher.py:25: RuntimeWarning: invalid value encountered in sqrt\n"
     ]
    },
    {
     "data": {
      "image/png": "[encoded data removed]",
      "text/plain": [
       "<Figure size 432x288 with 1 Axes>"
      ]
     },
     "metadata": {},
     "output_type": "display_data"
    }
   ],
   "source": [
    "iteration = 100\n",
    "result=[]\n",
    "for i in range(1,40):\n",
    "    res = []\n",
    "    for j in range(iteration):\n",
    "        X_train, X_test, y_train, y_test = train_test_split(iris.data, iris.target, test_size=0.1, stratify=iris.target)\n",
    "        my_clf = MyKNeighborsClassifier(n_neighbors=i)\n",
    "        my_clf.fit(X_train, y_train)\n",
    "        \n",
    "        res.append(my_clf.score(X_test, y_test))\n",
    "    result.append(np.mean(res))\n",
    "result = np.array(result)\n",
    "\n",
    "best_n = result.argmax()+1\n",
    "\n",
    "plt.plot(range(1,40), result)\n",
    "plt.xlabel(\"n neighbors\")\n",
    "plt.ylabel(\"mean score\")\n",
    "plt.axvline(best_n, color='red')\n",
    "plt.grid()\n",
    "plt.show()"
   ]
  },
  {
   "cell_type": "markdown",
   "metadata": {},
   "source": [
    "**MNIST**"
   ]
  },
  {
   "cell_type": "code",
   "execution_count": 119,
   "metadata": {},
   "outputs": [],
   "source": [
    "mnist = fetch_mldata('MNIST original')"
   ]
  },
  {
   "cell_type": "code",
   "execution_count": 120,
   "metadata": {},
   "outputs": [],
   "source": [
    "X_train, X_test, y_train, y_test = train_test_split(mnist.data, mnist.target, test_size=0.01, stratify=mnist.target)"
   ]
  },
  {
   "cell_type": "code",
   "execution_count": 121,
   "metadata": {},
   "outputs": [],
   "source": [
    "clf = KNeighborsClassifier(n_neighbors=2)\n",
    "my_clf = MyKNeighborsClassifier(n_neighbors=2)"
   ]
  },
  {
   "cell_type": "code",
   "execution_count": 122,
   "metadata": {},
   "outputs": [
    {
     "name": "stdout",
     "output_type": "stream",
     "text": [
      "CPU times: user 2min 58s, sys: 1.45 s, total: 3min\n",
      "Wall time: 3min 1s\n"
     ]
    },
    {
     "data": {
      "text/plain": [
       "KNeighborsClassifier(algorithm='auto', leaf_size=30, metric='minkowski',\n",
       "           metric_params=None, n_jobs=1, n_neighbors=2, p=2,\n",
       "           weights='uniform')"
      ]
     },
     "execution_count": 122,
     "metadata": {},
     "output_type": "execute_result"
    }
   ],
   "source": [
    "%time clf.fit(X_train, y_train)"
   ]
  },
  {
   "cell_type": "code",
   "execution_count": 123,
   "metadata": {},
   "outputs": [
    {
     "name": "stdout",
     "output_type": "stream",
     "text": [
      "CPU times: user 356 ms, sys: 800 ms, total: 1.16 s\n",
      "Wall time: 12.5 s\n"
     ]
    }
   ],
   "source": [
    "%time my_clf.fit(X_train, y_train)"
   ]
  },
  {
   "cell_type": "code",
   "execution_count": 124,
   "metadata": {},
   "outputs": [
    {
     "name": "stdout",
     "output_type": "stream",
     "text": [
      "CPU times: user 3min 51s, sys: 240 ms, total: 3min 51s\n",
      "Wall time: 3min 55s\n"
     ]
    },
    {
     "data": {
      "text/plain": [
       "array([3., 6., 3., 0., 6., 2., 0., 1., 1., 2., 2., 4., 4., 6., 6., 2., 6.,\n",
       "       6., 1., 2., 9., 6., 3., 6., 8., 8., 4., 7., 1., 9., 6., 2., 0., 7.,\n",
       "       3., 3., 6., 8., 2., 3., 5., 8., 1., 7., 3., 2., 1., 5., 3., 5., 9.,\n",
       "       4., 7., 7., 2., 6., 2., 2., 7., 0., 9., 4., 1., 9., 9., 1., 4., 3.,\n",
       "       3., 7., 0., 2., 3., 4., 7., 0., 4., 0., 8., 8., 2., 2., 5., 0., 4.,\n",
       "       4., 4., 0., 6., 1., 0., 4., 5., 9., 8., 5., 8., 9., 2., 9., 9., 1.,\n",
       "       0., 3., 0., 5., 0., 3., 5., 6., 8., 9., 2., 0., 9., 0., 0., 0., 6.,\n",
       "       8., 1., 1., 0., 8., 9., 5., 8., 3., 3., 7., 2., 6., 1., 9., 5., 4.,\n",
       "       2., 1., 3., 4., 5., 9., 9., 9., 6., 4., 9., 1., 7., 4., 9., 7., 1.,\n",
       "       0., 7., 3., 7., 2., 0., 1., 5., 3., 7., 2., 0., 6., 9., 4., 9., 8.,\n",
       "       5., 5., 9., 1., 1., 1., 1., 2., 0., 1., 8., 3., 5., 0., 4., 0., 7.,\n",
       "       9., 1., 6., 7., 8., 8., 6., 1., 1., 6., 8., 9., 1., 7., 6., 9., 6.,\n",
       "       1., 6., 4., 3., 9., 1., 5., 9., 6., 5., 0., 6., 1., 7., 2., 2., 4.,\n",
       "       4., 1., 2., 6., 9., 0., 3., 3., 7., 0., 2., 1., 7., 1., 7., 2., 9.,\n",
       "       9., 1., 9., 2., 4., 5., 9., 3., 2., 0., 8., 0., 6., 5., 3., 6., 8.,\n",
       "       4., 2., 3., 3., 3., 7., 1., 6., 4., 4., 0., 6., 0., 7., 1., 4., 3.,\n",
       "       2., 7., 2., 7., 3., 6., 7., 3., 0., 9., 0., 0., 7., 1., 5., 8., 0.,\n",
       "       4., 1., 6., 8., 8., 1., 1., 1., 3., 2., 4., 2., 1., 1., 7., 0., 1.,\n",
       "       9., 0., 4., 3., 7., 7., 5., 0., 3., 2., 2., 4., 0., 3., 6., 6., 3.,\n",
       "       2., 9., 7., 6., 6., 3., 8., 2., 9., 1., 7., 7., 2., 5., 0., 2., 5.,\n",
       "       0., 9., 1., 1., 7., 4., 3., 0., 4., 2., 6., 5., 6., 5., 7., 7., 3.,\n",
       "       1., 4., 7., 5., 2., 1., 3., 7., 8., 9., 7., 4., 4., 1., 8., 8., 3.,\n",
       "       8., 4., 4., 4., 6., 3., 5., 7., 7., 9., 0., 6., 1., 9., 9., 4., 6.,\n",
       "       3., 5., 6., 3., 1., 5., 3., 2., 1., 2., 4., 1., 1., 2., 6., 7., 0.,\n",
       "       6., 2., 6., 3., 9., 9., 6., 9., 2., 3., 5., 8., 4., 2., 5., 0., 6.,\n",
       "       9., 8., 0., 7., 8., 1., 7., 3., 1., 7., 2., 5., 3., 5., 3., 6., 3.,\n",
       "       2., 9., 7., 3., 7., 9., 2., 5., 0., 2., 1., 7., 3., 3., 7., 2., 6.,\n",
       "       7., 7., 2., 7., 9., 7., 1., 6., 1., 0., 9., 2., 8., 7., 6., 8., 6.,\n",
       "       4., 7., 5., 2., 7., 7., 4., 5., 8., 0., 4., 5., 3., 6., 0., 9., 6.,\n",
       "       3., 4., 1., 8., 3., 4., 7., 8., 3., 9., 3., 5., 3., 0., 6., 7., 6.,\n",
       "       5., 2., 9., 0., 2., 6., 8., 3., 8., 2., 9., 0., 5., 3., 1., 6., 6.,\n",
       "       6., 5., 3., 5., 8., 3., 7., 7., 3., 1., 2., 8., 4., 0., 4., 7., 4.,\n",
       "       8., 2., 2., 2., 1., 1., 4., 7., 9., 3., 5., 0., 6., 0., 1., 4., 6.,\n",
       "       1., 8., 1., 0., 0., 3., 2., 6., 7., 9., 7., 1., 1., 8., 4., 2., 1.,\n",
       "       4., 9., 9., 6., 3., 4., 4., 4., 9., 8., 8., 0., 5., 5., 6., 9., 4.,\n",
       "       5., 2., 2., 2., 4., 5., 3., 9., 8., 0., 0., 1., 7., 4., 5., 2., 4.,\n",
       "       0., 5., 4., 3., 5., 5., 1., 4., 2., 8., 6., 8., 1., 5., 5., 1., 6.,\n",
       "       5., 8., 7., 8., 1., 8., 4., 7., 8., 2., 7., 6., 8., 0., 1., 4., 4.,\n",
       "       6., 9., 5., 7., 1., 7., 8., 9., 1., 3., 9., 4., 6., 4., 0., 0., 4.,\n",
       "       8., 4., 3., 8., 0., 1., 7., 0., 0., 1., 1., 1., 3., 8., 0., 0., 4.,\n",
       "       6., 5., 9., 2., 1., 3., 7., 8., 5., 9., 9., 0., 6., 5., 5., 5., 4.,\n",
       "       7., 4., 3.])"
      ]
     },
     "execution_count": 124,
     "metadata": {},
     "output_type": "execute_result"
    }
   ],
   "source": [
    "%time clf.predict(X_test)"
   ]
  },
  {
   "cell_type": "code",
   "execution_count": 125,
   "metadata": {
    "scrolled": true
   },
   "outputs": [
    {
     "name": "stdout",
     "output_type": "stream",
     "text": [
      "CPU times: user 38.1 s, sys: 3.74 s, total: 41.9 s\n",
      "Wall time: 52.9 s\n"
     ]
    },
    {
     "data": {
      "text/plain": [
       "array([3, 6, 3, 0, 6, 2, 0, 1, 1, 2, 2, 4, 4, 6, 6, 2, 6, 6, 1, 2, 9, 6,\n",
       "       3, 6, 8, 8, 4, 7, 1, 9, 6, 2, 0, 7, 3, 3, 6, 8, 2, 3, 5, 8, 1, 7,\n",
       "       3, 2, 1, 5, 3, 5, 9, 4, 7, 7, 2, 6, 2, 2, 7, 0, 9, 4, 1, 9, 9, 1,\n",
       "       4, 3, 3, 7, 0, 2, 3, 4, 7, 0, 4, 0, 8, 8, 2, 2, 5, 0, 4, 4, 4, 0,\n",
       "       6, 1, 0, 4, 5, 9, 8, 5, 8, 9, 2, 9, 9, 1, 0, 3, 0, 5, 0, 3, 5, 6,\n",
       "       8, 9, 2, 0, 9, 0, 0, 0, 6, 8, 1, 1, 0, 8, 9, 5, 8, 3, 3, 7, 2, 6,\n",
       "       1, 9, 5, 4, 2, 1, 3, 4, 5, 9, 9, 9, 6, 4, 9, 1, 7, 4, 9, 7, 1, 0,\n",
       "       7, 3, 7, 2, 0, 1, 5, 3, 7, 2, 0, 6, 9, 4, 9, 8, 5, 5, 9, 1, 1, 1,\n",
       "       1, 2, 0, 1, 8, 3, 5, 0, 4, 0, 7, 9, 1, 6, 7, 8, 8, 6, 1, 1, 6, 8,\n",
       "       9, 1, 7, 6, 9, 6, 1, 6, 4, 3, 9, 1, 5, 9, 6, 5, 0, 6, 1, 7, 2, 2,\n",
       "       4, 4, 1, 2, 6, 9, 0, 3, 3, 7, 0, 2, 1, 7, 1, 7, 2, 9, 9, 1, 9, 2,\n",
       "       4, 5, 9, 3, 2, 0, 8, 0, 6, 5, 3, 6, 8, 4, 2, 3, 3, 3, 7, 1, 6, 4,\n",
       "       4, 0, 6, 0, 7, 1, 4, 3, 2, 7, 2, 7, 3, 6, 7, 3, 0, 9, 0, 0, 7, 1,\n",
       "       5, 8, 0, 4, 1, 6, 8, 8, 1, 1, 1, 3, 2, 4, 2, 1, 1, 7, 0, 1, 9, 0,\n",
       "       4, 3, 7, 7, 5, 0, 3, 2, 2, 4, 0, 3, 6, 6, 3, 2, 9, 7, 6, 6, 3, 8,\n",
       "       2, 9, 1, 7, 7, 2, 5, 0, 2, 5, 0, 9, 1, 1, 7, 4, 3, 0, 4, 2, 6, 5,\n",
       "       6, 5, 7, 7, 3, 1, 4, 7, 5, 2, 1, 3, 7, 8, 9, 7, 4, 4, 1, 8, 8, 3,\n",
       "       8, 4, 4, 4, 6, 3, 5, 7, 7, 9, 0, 6, 1, 9, 9, 4, 6, 3, 5, 6, 3, 1,\n",
       "       5, 3, 2, 1, 2, 4, 1, 1, 2, 6, 7, 0, 6, 2, 6, 3, 9, 9, 6, 9, 2, 3,\n",
       "       5, 8, 4, 2, 5, 0, 6, 9, 8, 0, 7, 8, 1, 7, 3, 1, 7, 2, 5, 3, 5, 3,\n",
       "       6, 3, 2, 9, 7, 3, 7, 9, 2, 5, 0, 2, 1, 7, 3, 3, 7, 2, 6, 7, 7, 2,\n",
       "       7, 9, 7, 1, 6, 1, 0, 9, 2, 8, 7, 6, 8, 6, 4, 7, 5, 2, 7, 7, 4, 5,\n",
       "       8, 0, 4, 5, 3, 6, 0, 9, 6, 3, 4, 1, 8, 3, 4, 7, 8, 3, 9, 3, 5, 3,\n",
       "       0, 6, 7, 6, 5, 2, 9, 0, 2, 6, 8, 3, 8, 2, 9, 0, 5, 3, 1, 6, 6, 6,\n",
       "       5, 3, 5, 8, 3, 7, 7, 3, 1, 2, 8, 4, 0, 4, 7, 4, 8, 2, 2, 2, 1, 1,\n",
       "       4, 7, 9, 3, 5, 0, 6, 0, 1, 4, 6, 1, 8, 1, 0, 0, 3, 2, 6, 7, 9, 7,\n",
       "       1, 1, 8, 4, 2, 1, 4, 9, 9, 6, 3, 4, 4, 4, 9, 8, 8, 0, 5, 5, 6, 9,\n",
       "       4, 5, 2, 2, 2, 4, 5, 3, 9, 8, 0, 0, 1, 7, 4, 5, 2, 4, 0, 5, 4, 3,\n",
       "       5, 5, 1, 4, 2, 8, 6, 8, 1, 5, 5, 1, 6, 5, 8, 7, 8, 1, 8, 4, 7, 8,\n",
       "       2, 7, 6, 8, 0, 1, 4, 4, 6, 9, 5, 7, 1, 7, 8, 9, 1, 3, 9, 4, 6, 4,\n",
       "       0, 0, 4, 8, 4, 3, 8, 0, 1, 7, 0, 0, 1, 1, 1, 3, 8, 0, 0, 4, 6, 5,\n",
       "       9, 2, 1, 3, 7, 8, 5, 9, 9, 0, 6, 5, 5, 5, 4, 7, 4, 3])"
      ]
     },
     "execution_count": 125,
     "metadata": {},
     "output_type": "execute_result"
    }
   ],
   "source": [
    "%time my_clf.predict(X_test)"
   ]
  },
  {
   "cell_type": "code",
   "execution_count": 126,
   "metadata": {},
   "outputs": [
    {
     "name": "stdout",
     "output_type": "stream",
     "text": [
      "CPU times: user 3min 52s, sys: 108 ms, total: 3min 52s\n",
      "Wall time: 3min 57s\n"
     ]
    },
    {
     "data": {
      "text/plain": [
       "array([[0. , 0. , 0. , ..., 0. , 0. , 0. ],\n",
       "       [0. , 0. , 0. , ..., 0. , 0. , 0. ],\n",
       "       [0. , 0. , 0. , ..., 0. , 0. , 0. ],\n",
       "       ...,\n",
       "       [0. , 0. , 0. , ..., 1. , 0. , 0. ],\n",
       "       [0. , 0. , 0. , ..., 0. , 0. , 0.5],\n",
       "       [0. , 0. , 0. , ..., 0. , 0. , 0.5]])"
      ]
     },
     "execution_count": 126,
     "metadata": {},
     "output_type": "execute_result"
    }
   ],
   "source": [
    "%time clf.predict_proba(X_test)"
   ]
  },
  {
   "cell_type": "code",
   "execution_count": 127,
   "metadata": {},
   "outputs": [
    {
     "name": "stdout",
     "output_type": "stream",
     "text": [
      "CPU times: user 38.2 s, sys: 2.2 s, total: 40.4 s\n",
      "Wall time: 24.5 s\n"
     ]
    },
    {
     "data": {
      "text/plain": [
       "array([[0. , 0. , 0. , ..., 0. , 0. , 0. ],\n",
       "       [0. , 0. , 0. , ..., 0. , 0. , 0. ],\n",
       "       [0. , 0. , 0. , ..., 0. , 0. , 0. ],\n",
       "       ...,\n",
       "       [0. , 0. , 0. , ..., 1. , 0. , 0. ],\n",
       "       [0. , 0. , 0. , ..., 0. , 0. , 0.5],\n",
       "       [0. , 0. , 0. , ..., 0. , 0. , 0.5]])"
      ]
     },
     "execution_count": 127,
     "metadata": {},
     "output_type": "execute_result"
    }
   ],
   "source": [
    "%time my_clf.predict_proba(X_test)"
   ]
  },
  {
   "cell_type": "code",
   "execution_count": 128,
   "metadata": {},
   "outputs": [
    {
     "data": {
      "text/plain": [
       "0.9557142857142857"
      ]
     },
     "execution_count": 128,
     "metadata": {},
     "output_type": "execute_result"
    }
   ],
   "source": [
    "clf.score(X_test, y_test)"
   ]
  },
  {
   "cell_type": "code",
   "execution_count": 129,
   "metadata": {},
   "outputs": [
    {
     "data": {
      "text/plain": [
       "0.9557142857142857"
      ]
     },
     "execution_count": 129,
     "metadata": {},
     "output_type": "execute_result"
    }
   ],
   "source": [
    "my_clf.score(X_test, y_test)"
   ]
  },
  {
   "cell_type": "markdown",
   "metadata": {},
   "source": [
    "Задание 4"
   ]
  },
  {
   "cell_type": "code",
   "execution_count": 130,
   "metadata": {},
   "outputs": [],
   "source": [
    "clf = KNeighborsClassifier(n_neighbors=best_n, algorithm='kd_tree')\n",
    "my_clf = MyKNeighborsClassifier(n_neighbors=best_n, algorithm='kd_tree')"
   ]
  },
  {
   "cell_type": "code",
   "execution_count": 131,
   "metadata": {},
   "outputs": [],
   "source": [
    "X_train, X_test, y_train, y_test = train_test_split(mnist.data, mnist.target, test_size=0.01, stratify=mnist.target)"
   ]
  },
  {
   "cell_type": "code",
   "execution_count": 132,
   "metadata": {},
   "outputs": [
    {
     "name": "stdout",
     "output_type": "stream",
     "text": [
      "CPU times: user 2min 58s, sys: 836 ms, total: 2min 59s\n",
      "Wall time: 2min 58s\n"
     ]
    },
    {
     "data": {
      "text/plain": [
       "KNeighborsClassifier(algorithm='kd_tree', leaf_size=30, metric='minkowski',\n",
       "           metric_params=None, n_jobs=1, n_neighbors=15, p=2,\n",
       "           weights='uniform')"
      ]
     },
     "execution_count": 132,
     "metadata": {},
     "output_type": "execute_result"
    }
   ],
   "source": [
    "%time clf.fit(X_train, y_train)"
   ]
  },
  {
   "cell_type": "code",
   "execution_count": 133,
   "metadata": {},
   "outputs": [
    {
     "name": "stdout",
     "output_type": "stream",
     "text": [
      "CPU times: user 2min 53s, sys: 1.01 s, total: 2min 54s\n",
      "Wall time: 2min 54s\n"
     ]
    }
   ],
   "source": [
    "%time my_clf.fit(X_train, y_train)"
   ]
  },
  {
   "cell_type": "code",
   "execution_count": 134,
   "metadata": {},
   "outputs": [
    {
     "name": "stdout",
     "output_type": "stream",
     "text": [
      "CPU times: user 3min 51s, sys: 308 ms, total: 3min 52s\n",
      "Wall time: 3min 52s\n"
     ]
    },
    {
     "data": {
      "text/plain": [
       "array([9., 8., 6., 2., 0., 9., 3., 8., 3., 9., 1., 7., 3., 4., 4., 5., 4.,\n",
       "       0., 9., 5., 7., 8., 1., 7., 7., 5., 0., 7., 5., 7., 6., 1., 1., 1.,\n",
       "       1., 9., 1., 2., 7., 2., 2., 5., 2., 9., 3., 5., 5., 1., 3., 2., 5.,\n",
       "       1., 9., 6., 9., 1., 7., 4., 0., 0., 3., 2., 1., 2., 6., 8., 1., 3.,\n",
       "       1., 5., 8., 0., 4., 1., 3., 6., 0., 0., 3., 7., 7., 4., 9., 3., 9.,\n",
       "       6., 5., 5., 5., 3., 1., 5., 0., 4., 7., 4., 1., 4., 4., 9., 6., 0.,\n",
       "       2., 0., 0., 6., 1., 6., 8., 7., 2., 8., 5., 8., 3., 4., 2., 0., 5.,\n",
       "       8., 9., 6., 9., 9., 2., 8., 6., 5., 2., 6., 6., 3., 6., 6., 5., 1.,\n",
       "       1., 1., 5., 5., 9., 5., 8., 7., 0., 8., 0., 6., 7., 7., 1., 6., 5.,\n",
       "       8., 1., 7., 6., 0., 4., 4., 2., 7., 8., 1., 3., 9., 1., 0., 8., 3.,\n",
       "       4., 2., 2., 8., 1., 1., 4., 3., 0., 4., 3., 6., 2., 0., 0., 0., 0.,\n",
       "       4., 4., 6., 4., 8., 6., 8., 9., 5., 8., 3., 4., 6., 6., 2., 7., 3.,\n",
       "       2., 9., 7., 5., 6., 3., 8., 3., 6., 6., 9., 4., 9., 3., 9., 4., 2.,\n",
       "       3., 1., 4., 5., 8., 0., 8., 1., 1., 1., 0., 5., 7., 7., 8., 7., 5.,\n",
       "       2., 1., 4., 0., 5., 7., 4., 3., 3., 6., 5., 1., 9., 6., 2., 3., 3.,\n",
       "       7., 2., 4., 2., 3., 8., 8., 6., 5., 4., 8., 2., 0., 5., 5., 4., 1.,\n",
       "       1., 4., 8., 3., 7., 8., 9., 4., 1., 7., 8., 0., 6., 8., 9., 9., 5.,\n",
       "       0., 2., 5., 6., 6., 1., 0., 0., 2., 3., 3., 8., 5., 3., 6., 3., 1.,\n",
       "       3., 7., 7., 2., 4., 2., 1., 0., 2., 1., 9., 0., 0., 4., 9., 2., 2.,\n",
       "       3., 9., 8., 2., 0., 0., 3., 3., 6., 9., 7., 1., 8., 8., 7., 6., 6.,\n",
       "       4., 1., 2., 0., 6., 3., 6., 7., 1., 0., 9., 9., 0., 6., 7., 5., 0.,\n",
       "       2., 1., 7., 6., 1., 1., 3., 2., 6., 7., 9., 9., 7., 0., 3., 6., 1.,\n",
       "       1., 7., 4., 2., 1., 0., 0., 2., 8., 8., 9., 3., 3., 9., 6., 6., 5.,\n",
       "       4., 2., 3., 0., 6., 7., 7., 8., 6., 9., 7., 8., 1., 6., 8., 6., 5.,\n",
       "       0., 4., 7., 9., 3., 4., 0., 7., 0., 3., 3., 1., 7., 7., 0., 7., 4.,\n",
       "       7., 9., 4., 5., 4., 6., 1., 5., 7., 1., 4., 8., 1., 5., 7., 6., 4.,\n",
       "       9., 3., 8., 8., 1., 2., 8., 4., 6., 1., 5., 0., 7., 6., 7., 9., 4.,\n",
       "       1., 1., 2., 6., 4., 1., 2., 1., 7., 9., 1., 0., 7., 0., 3., 7., 9.,\n",
       "       1., 3., 2., 3., 1., 9., 3., 4., 3., 0., 5., 1., 2., 9., 4., 9., 2.,\n",
       "       5., 2., 7., 4., 2., 0., 1., 4., 1., 2., 2., 9., 8., 7., 9., 1., 0.,\n",
       "       0., 1., 0., 7., 5., 4., 5., 7., 8., 5., 4., 8., 5., 9., 7., 7., 5.,\n",
       "       3., 4., 3., 7., 5., 9., 1., 6., 6., 0., 9., 3., 2., 5., 7., 8., 6.,\n",
       "       7., 4., 8., 1., 8., 0., 4., 3., 9., 2., 8., 5., 1., 4., 7., 1., 6.,\n",
       "       4., 4., 1., 1., 5., 5., 1., 6., 3., 1., 8., 8., 9., 7., 8., 8., 2.,\n",
       "       2., 3., 0., 6., 4., 1., 0., 8., 7., 7., 2., 9., 5., 1., 5., 1., 6.,\n",
       "       1., 6., 3., 4., 1., 6., 0., 7., 5., 7., 1., 1., 8., 3., 0., 6., 7.,\n",
       "       9., 2., 7., 6., 3., 5., 0., 2., 2., 9., 6., 9., 9., 8., 7., 5., 0.,\n",
       "       7., 5., 5., 4., 9., 3., 4., 6., 0., 0., 8., 4., 0., 2., 8., 1., 7.,\n",
       "       3., 6., 5., 9., 3., 4., 3., 3., 5., 8., 9., 8., 1., 1., 8., 6., 0.,\n",
       "       8., 1., 2., 9., 3., 8., 9., 9., 4., 1., 4., 6., 4., 8., 3., 0., 0.,\n",
       "       5., 4., 7., 3., 0., 9., 2., 8., 9., 7., 3., 2., 8., 7., 6., 9., 8.,\n",
       "       0., 9., 5.])"
      ]
     },
     "execution_count": 134,
     "metadata": {},
     "output_type": "execute_result"
    }
   ],
   "source": [
    "%time clf.predict(X_test)"
   ]
  },
  {
   "cell_type": "code",
   "execution_count": 135,
   "metadata": {},
   "outputs": [
    {
     "name": "stdout",
     "output_type": "stream",
     "text": [
      "CPU times: user 3min 12s, sys: 220 ms, total: 3min 13s\n",
      "Wall time: 3min 13s\n"
     ]
    },
    {
     "data": {
      "text/plain": [
       "array([9, 8, 6, 2, 0, 9, 3, 8, 3, 9, 1, 7, 3, 4, 4, 5, 4, 0, 9, 5, 7, 8,\n",
       "       1, 7, 7, 5, 0, 7, 5, 7, 6, 1, 1, 1, 1, 9, 1, 2, 7, 2, 2, 5, 2, 9,\n",
       "       3, 5, 5, 1, 3, 2, 5, 1, 9, 6, 9, 1, 7, 4, 0, 0, 3, 2, 1, 2, 6, 8,\n",
       "       1, 3, 1, 5, 8, 0, 4, 1, 3, 6, 0, 0, 3, 7, 7, 4, 9, 3, 9, 6, 5, 5,\n",
       "       5, 3, 1, 5, 0, 4, 7, 4, 1, 4, 4, 9, 6, 0, 2, 0, 0, 6, 1, 6, 8, 7,\n",
       "       2, 8, 5, 8, 3, 4, 2, 0, 5, 8, 9, 6, 9, 9, 2, 8, 6, 5, 2, 6, 6, 3,\n",
       "       6, 6, 5, 1, 1, 1, 5, 5, 9, 5, 8, 7, 0, 8, 0, 6, 7, 7, 1, 6, 5, 8,\n",
       "       1, 7, 6, 0, 4, 4, 2, 7, 8, 1, 3, 9, 1, 0, 8, 3, 4, 2, 2, 8, 1, 1,\n",
       "       4, 3, 0, 4, 3, 6, 2, 0, 0, 0, 0, 4, 4, 6, 4, 8, 6, 8, 9, 5, 8, 3,\n",
       "       4, 6, 6, 2, 7, 3, 2, 9, 7, 5, 6, 3, 8, 3, 6, 6, 9, 4, 9, 3, 9, 4,\n",
       "       2, 3, 1, 4, 5, 8, 0, 8, 1, 1, 1, 0, 5, 7, 7, 8, 7, 5, 2, 1, 4, 0,\n",
       "       5, 7, 4, 3, 3, 6, 5, 1, 9, 6, 2, 3, 3, 7, 2, 4, 2, 3, 8, 8, 6, 5,\n",
       "       4, 8, 2, 0, 5, 5, 4, 1, 1, 4, 8, 3, 7, 8, 9, 4, 1, 7, 8, 0, 6, 8,\n",
       "       9, 9, 5, 0, 2, 5, 6, 6, 1, 0, 0, 2, 3, 3, 8, 5, 3, 6, 3, 1, 3, 7,\n",
       "       7, 2, 4, 2, 1, 0, 2, 1, 9, 0, 0, 4, 9, 2, 2, 3, 9, 8, 2, 0, 0, 3,\n",
       "       3, 6, 9, 7, 1, 8, 8, 7, 6, 6, 4, 1, 2, 0, 6, 3, 6, 7, 1, 0, 9, 9,\n",
       "       0, 6, 7, 5, 0, 2, 1, 7, 6, 1, 1, 3, 2, 6, 7, 9, 9, 7, 0, 3, 6, 1,\n",
       "       1, 7, 4, 2, 1, 0, 0, 2, 8, 8, 9, 3, 3, 9, 6, 6, 5, 4, 2, 3, 0, 6,\n",
       "       7, 7, 8, 6, 9, 7, 8, 1, 6, 8, 6, 5, 0, 4, 7, 9, 3, 4, 0, 7, 0, 3,\n",
       "       3, 1, 7, 7, 0, 7, 4, 7, 9, 4, 5, 4, 6, 1, 5, 7, 1, 4, 8, 1, 5, 7,\n",
       "       6, 4, 9, 3, 8, 8, 1, 2, 8, 4, 6, 1, 5, 0, 7, 6, 7, 9, 4, 1, 1, 2,\n",
       "       6, 4, 1, 2, 1, 7, 9, 1, 0, 7, 0, 3, 7, 9, 1, 3, 2, 3, 1, 9, 3, 4,\n",
       "       3, 0, 5, 1, 2, 9, 4, 9, 2, 5, 2, 7, 4, 2, 0, 1, 4, 1, 2, 2, 9, 8,\n",
       "       7, 9, 1, 0, 0, 1, 0, 7, 5, 4, 5, 7, 8, 5, 4, 8, 5, 9, 7, 7, 5, 3,\n",
       "       4, 3, 7, 5, 9, 1, 6, 6, 0, 9, 3, 2, 5, 7, 8, 6, 7, 4, 8, 1, 8, 0,\n",
       "       4, 3, 9, 2, 8, 5, 1, 4, 7, 1, 6, 4, 4, 1, 1, 5, 5, 1, 6, 3, 1, 8,\n",
       "       8, 9, 7, 8, 8, 2, 2, 3, 0, 6, 4, 1, 0, 8, 7, 7, 2, 9, 5, 1, 5, 1,\n",
       "       6, 1, 6, 3, 4, 1, 6, 0, 7, 5, 7, 1, 1, 8, 3, 0, 6, 7, 9, 2, 7, 6,\n",
       "       3, 5, 0, 2, 2, 9, 6, 9, 9, 8, 7, 5, 0, 7, 5, 5, 4, 9, 3, 4, 6, 0,\n",
       "       0, 8, 4, 0, 2, 8, 1, 7, 3, 6, 5, 9, 3, 4, 3, 3, 5, 8, 9, 8, 1, 1,\n",
       "       8, 6, 0, 8, 1, 2, 9, 3, 8, 9, 9, 4, 1, 4, 6, 4, 8, 3, 0, 0, 5, 4,\n",
       "       7, 3, 0, 9, 2, 8, 9, 7, 3, 2, 8, 7, 6, 9, 8, 0, 9, 5])"
      ]
     },
     "execution_count": 135,
     "metadata": {},
     "output_type": "execute_result"
    }
   ],
   "source": [
    "%time my_clf.predict(X_test)"
   ]
  },
  {
   "cell_type": "code",
   "execution_count": 136,
   "metadata": {},
   "outputs": [
    {
     "name": "stdout",
     "output_type": "stream",
     "text": [
      "CPU times: user 3min 52s, sys: 212 ms, total: 3min 52s\n",
      "Wall time: 3min 53s\n"
     ]
    },
    {
     "data": {
      "text/plain": [
       "array([[0., 0., 0., ..., 0., 0., 1.],\n",
       "       [0., 0., 0., ..., 0., 1., 0.],\n",
       "       [0., 0., 0., ..., 0., 0., 0.],\n",
       "       ...,\n",
       "       [1., 0., 0., ..., 0., 0., 0.],\n",
       "       [0., 0., 0., ..., 0., 0., 1.],\n",
       "       [0., 0., 0., ..., 0., 0., 0.]])"
      ]
     },
     "execution_count": 136,
     "metadata": {},
     "output_type": "execute_result"
    }
   ],
   "source": [
    "%time clf.predict_proba(X_test)"
   ]
  },
  {
   "cell_type": "code",
   "execution_count": 137,
   "metadata": {},
   "outputs": [
    {
     "name": "stdout",
     "output_type": "stream",
     "text": [
      "CPU times: user 3min 13s, sys: 100 ms, total: 3min 13s\n",
      "Wall time: 3min 13s\n"
     ]
    },
    {
     "data": {
      "text/plain": [
       "array([[0., 0., 0., ..., 0., 0., 1.],\n",
       "       [0., 0., 0., ..., 0., 1., 0.],\n",
       "       [0., 0., 0., ..., 0., 0., 0.],\n",
       "       ...,\n",
       "       [1., 0., 0., ..., 0., 0., 0.],\n",
       "       [0., 0., 0., ..., 0., 0., 1.],\n",
       "       [0., 0., 0., ..., 0., 0., 0.]])"
      ]
     },
     "execution_count": 137,
     "metadata": {},
     "output_type": "execute_result"
    }
   ],
   "source": [
    "%time my_clf.predict_proba(X_test)"
   ]
  },
  {
   "cell_type": "code",
   "execution_count": 138,
   "metadata": {},
   "outputs": [
    {
     "data": {
      "text/plain": [
       "0.96"
      ]
     },
     "execution_count": 138,
     "metadata": {},
     "output_type": "execute_result"
    }
   ],
   "source": [
    "clf.score(X_test, y_test)"
   ]
  },
  {
   "cell_type": "code",
   "execution_count": null,
   "metadata": {},
   "outputs": [],
   "source": [
    "my_clf.score(X_test, y_test)"
   ]
  },
  {
   "cell_type": "markdown",
   "metadata": {},
   "source": [
    "Задание 5"
   ]
  },
  {
   "cell_type": "code",
   "execution_count": 14,
   "metadata": {},
   "outputs": [
    {
     "data": {
      "text/plain": [
       "'Класс для работы fit'"
      ]
     },
     "execution_count": 14,
     "metadata": {},
     "output_type": "execute_result"
    }
   ],
   "source": [
    "# seaborn\n",
    "\"Библиотека для визуализации данных. Основана на matplotlib, имеет более красивый, информативный интерфейс\"\n",
    "# matplotlib\n",
    "\"Библиотека для визуализации данных с помощью графиков\"\n",
    "# train_test_split\n",
    "\"Функция, которая разделяет данные на обучающую и тестовую.\"\n",
    "\"Можно выбрать в каком соотношении(test_size) и настроить рандомизацию (random_state)\"\n",
    "# Pipelin%load_ext e (from sklearn.pipeline import Pipeline)\n",
    "\"Нужен для последовательного преобразования данных\"\n",
    "# StandardScaler (from sklearn.preprocessing import StandardScaler)\n",
    "\"Стандартизирует данные таким образом что выборочное среднее=0 и стандартное отклонение=1\"\n",
    "# ClassifierMixin\n",
    "\"класс для классификаторов, которые от него наследуются\"\n",
    "# NeighborsBase\n",
    "\"Класс sklearn для оценок ближайших соседей\"\n",
    "# KNeighborsMixin\n",
    "\"Класс из sklearn для поиска ближайших соседей\"\n",
    "# SupervisedIntegerMixin\n",
    "\"Класс для работы fit\""
   ]
  },
  {
   "cell_type": "code",
   "execution_count": null,
   "metadata": {},
   "outputs": [],
   "source": []
  }
 ],
 "metadata": {
  "kernelspec": {
   "display_name": "Python 3",
   "language": "python",
   "name": "python3"
  },
  "language_info": {
   "codemirror_mode": {
    "name": "ipython",
    "version": 3
   },
   "file_extension": ".py",
   "mimetype": "text/x-python",
   "name": "python",
   "nbconvert_exporter": "python",
   "pygments_lexer": "ipython3",
   "version": "3.6.5"
  }
 },
 "nbformat": 4,
 "nbformat_minor": 2
}
